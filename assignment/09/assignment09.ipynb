{
  "nbformat": 4,
  "nbformat_minor": 0,
  "metadata": {
    "colab": {
      "name": "assignment09.ipynb",
      "provenance": [],
      "private_outputs": true,
      "collapsed_sections": []
    },
    "kernelspec": {
      "name": "python3",
      "display_name": "Python 3"
    }
  },
  "cells": [
    {
      "cell_type": "markdown",
      "metadata": {
        "id": "tUL5PMpo3xb0",
        "colab_type": "text"
      },
      "source": [
        "# Assignment09: Multi-label classification using neural networks"
      ]
    },
    {
      "cell_type": "markdown",
      "metadata": {
        "id": "ALBIU9KR33Y9",
        "colab_type": "text"
      },
      "source": [
        "## 1. Load the input data (csv file)"
      ]
    },
    {
      "cell_type": "markdown",
      "metadata": {
        "id": "wid6MPJ735VJ",
        "colab_type": "text"
      },
      "source": [
        "### Mount the google drive"
      ]
    },
    {
      "cell_type": "code",
      "metadata": {
        "id": "JxDJ0-24xu0F",
        "colab_type": "code",
        "colab": {}
      },
      "source": [
        "from google.colab import drive\n",
        "\n",
        "drive.mount('/content/gdrive')"
      ],
      "execution_count": 0,
      "outputs": []
    },
    {
      "cell_type": "code",
      "metadata": {
        "id": "JFxBfptArts-",
        "colab_type": "code",
        "colab": {}
      },
      "source": [
        "cd"
      ],
      "execution_count": 0,
      "outputs": []
    },
    {
      "cell_type": "code",
      "metadata": {
        "id": "q-Cccwg2rv9s",
        "colab_type": "code",
        "colab": {}
      },
      "source": [
        "cd ../content/gdrive/My Drive/Colab Notebooks/Machine Learning/assignment09"
      ],
      "execution_count": 0,
      "outputs": []
    },
    {
      "cell_type": "code",
      "metadata": {
        "id": "IeGW-jTN3_3A",
        "colab_type": "code",
        "colab": {}
      },
      "source": [
        "ls"
      ],
      "execution_count": 0,
      "outputs": []
    },
    {
      "cell_type": "markdown",
      "metadata": {
        "id": "C9WsauyO4IAX",
        "colab_type": "text"
      },
      "source": [
        "### Load the Data\n",
        "\n",
        "Load a set of the data from the given `csv file` (`'mnist.csv'`) for training. \\\\\n",
        "Each row of the data consists of the `label`, $l$ and the `image pixel values`, $x$ in a `vector form`, where the `label` is one of the 10 digits from 0 to 9, $l \\in [0, 9]$. \\\\\n",
        "The `image` represents its associated `label` in the `grey scale` and the number of images is 10,000 and the size of each image is $28 \\times 28$, $x \\in \\mathbb{R}^{784}$. \\\\\n",
        "Consder the first `6,000 images` for `training` and the rest `4,000 images` for `testing`. \\\\\n",
        "`Normalize` the `intensity values` of each image so that they ranges from `0 to 1`. \\\\\n",
        "Plot the `images` that are loaded from `'mnist.csv'` file. \\\\"
      ]
    },
    {
      "cell_type": "code",
      "metadata": {
        "id": "dABXry9Br0Kq",
        "colab_type": "code",
        "colab": {}
      },
      "source": [
        "import matplotlib.pyplot as plt\n",
        "import numpy as np\n",
        "\n",
        "file_data   = \"mnist.csv\"\n",
        "handle_file = open(file_data, \"r\")\n",
        "data        = handle_file.readlines()\n",
        "handle_file.close()\n",
        "\n",
        "size_row    = 28    # height of the image\n",
        "size_col    = 28    # width of the image\n",
        "\n",
        "num_image   = len(data)\n",
        "count       = 0     # count for the number of images\n",
        "\n",
        "#\n",
        "# normalize the values of the input data to be [0, 1]\n",
        "#\n",
        "def normalize(data):\n",
        "\n",
        "    data_normalized = (data - min(data)) / (max(data) - min(data))\n",
        "\n",
        "    return(data_normalized)\n",
        "\n",
        "#\n",
        "# example of distance function between two vectors x and y\n",
        "#\n",
        "def distance(x, y):\n",
        "\n",
        "    d = (x - y) ** 2\n",
        "    s = np.sum(d)\n",
        "    # r = np.sqrt(s)\n",
        "\n",
        "    return(s)\n",
        "\n",
        "#\n",
        "# make a matrix each column of which represents an images in a vector form\n",
        "# split the first 6,000 images for training and the rest 4,000 images for testing\n",
        "#\n",
        "num_train_image = 6000\n",
        "num_test_image = 4000\n",
        "\n",
        "list_image_train  = np.empty((size_row * size_col, 6000), dtype=np.float128)\n",
        "list_label_train  = np.empty(6000, dtype=int)\n",
        "list_image_test  = np.empty((size_row * size_col, 4000), dtype=np.float128)\n",
        "list_label_test  = np.empty(4000, dtype=int)\n",
        "\n",
        "for line in data[:6000]:\n",
        "\n",
        "    line_data   = line.split(',')\n",
        "    label       = line_data[0]\n",
        "    im_vector   = np.asfarray(line_data[1:])\n",
        "    im_vector   = normalize(im_vector)\n",
        "\n",
        "    list_label_train[count]       = label\n",
        "    list_image_train[:, count]    = im_vector\n",
        "\n",
        "    count += 1\n",
        "\n",
        "count = 0\n",
        "for line in data[6000:]:\n",
        "    line_data   = line.split(',')\n",
        "    label       = line_data[0]\n",
        "    im_vector   = np.asfarray(line_data[1:])\n",
        "    im_vector   = normalize(im_vector)\n",
        "\n",
        "    list_label_test[count]       = label\n",
        "    list_image_test[:, count]    = im_vector\n",
        "\n",
        "    count += 1\n",
        "#\n",
        "# plot first 150 images out of 10,000 with their labels\n",
        "#\n",
        "f1 = plt.figure(1)\n",
        "\n",
        "for i in range(150):\n",
        "\n",
        "    label       = list_label_train[i]\n",
        "    im_vector   = list_image_train[:, i]\n",
        "    im_matrix   = im_vector.reshape((size_row, size_col))\n",
        "\n",
        "    plt.subplot(10, 15, i+1)\n",
        "    plt.title(label)\n",
        "    plt.imshow(im_matrix, cmap='Greys', interpolation='None')\n",
        "\n",
        "    frame   = plt.gca()\n",
        "    frame.axes.get_xaxis().set_visible(False)\n",
        "    frame.axes.get_yaxis().set_visible(False)\n",
        "\n",
        "\n",
        "#plt.show()\n",
        "\n",
        "#\n",
        "# plot the average image of the training images for each digit\n",
        "#\n",
        "f2 = plt.figure(2)\n",
        "\n",
        "im_average  = np.zeros((size_row * size_col, 10), dtype=float)\n",
        "im_count    = np.zeros(10, dtype=int)\n",
        "\n",
        "for i in range(6000):\n",
        "\n",
        "    im_average[:, list_label_train[i]] += list_image_train[:, i]\n",
        "    im_count[list_label_train[i]] += 1\n",
        "\n",
        "for i in range(10):\n",
        "\n",
        "    im_average[:, i] /= im_count[i]\n",
        "\n",
        "    plt.subplot(2, 5, i+1)\n",
        "    plt.title(i)\n",
        "    plt.imshow(im_average[:,i].reshape((size_row, size_col)), cmap='Greys', interpolation='None')\n",
        "\n",
        "    frame   = plt.gca()\n",
        "    frame.axes.get_xaxis().set_visible(False)\n",
        "    frame.axes.get_yaxis().set_visible(False)\n",
        "\n",
        "plt.show()"
      ],
      "execution_count": 0,
      "outputs": []
    },
    {
      "cell_type": "markdown",
      "metadata": {
        "id": "U2dqXYEPjHFr",
        "colab_type": "text"
      },
      "source": [
        "## 2. Neural Network Architecture"
      ]
    },
    {
      "cell_type": "markdown",
      "metadata": {
        "id": "TjN8pxYcjVMf",
        "colab_type": "text"
      },
      "source": [
        "```mermaid\n",
        "(input layer : x)  --> (first hidden layer : y)  -->  (second hidden layer : z)  -->  (output layer : h)\n",
        "```\n",
        "\n",
        "```mermaid\n",
        "(x)  -- fully connected : u -->  (y_). -- sigmoid -->  (y)  -- fully connected : v   -->  (z_)  -- sigmoid -->  (z)  -- fully connected : w -->  (h_)  -- sigmoid -->  (h)\n",
        "```\n"
      ]
    },
    {
      "cell_type": "markdown",
      "metadata": {
        "id": "ndUndTkSB49E",
        "colab_type": "text"
      },
      "source": [
        "Build a `neural network` for the `multi-label classification` with `10 labels`. \\\\\n",
        "Construct a `neural network` with `4 layers` including the `input layer` and the `output layer`. \\\\\n",
        "Each `hidden layer` is defined by a `logistic unit`. \\\\\n",
        "A `logistic unit` consists of a `fully connected layer` with a `bias` followed by the `sigmoid activation function`. \\\\\n",
        " \\\\\n",
        "The `dimension` of each layer is defined by: \\\\\n",
        "`Input layer` : 784 (+ a `bias`) \\\\\n",
        "`First hidden layer` : 196 (+ a `bias`) \\\\\n",
        "`Second hidden layer` : 49 (+ a `bias`) \\\\\n",
        "`Output layer` : 10"
      ]
    },
    {
      "cell_type": "markdown",
      "metadata": {
        "id": "PX8wzzKLPcAO",
        "colab_type": "text"
      },
      "source": [
        "### 2.1. Generate the Fully Connected Layer\n",
        "\n",
        "Define a `fully connected layer` with a `bias`."
      ]
    },
    {
      "cell_type": "code",
      "metadata": {
        "id": "wodvsIriCLBH",
        "colab_type": "code",
        "colab": {}
      },
      "source": [
        "def fully_connected(num_input, num_output):\n",
        "    weight = np.empty((num_output, num_input), dtype=np.float128)\n",
        "    weight[0] = initialize(num_input)\n",
        "    output_layer  = np.empty((num_train_image, num_output), dtype=np.float128)\n",
        "    for i in range (num_output):\n",
        "        for j in range (num_input):\n",
        "            output_layer[i][j] = weight[i][0] + np.matmul(weight[i], list_image_train[:, j])\n",
        "        weight[i + 1] = gradient_descent(weight[i], output_layer[i])"
      ],
      "execution_count": 0,
      "outputs": []
    },
    {
      "cell_type": "markdown",
      "metadata": {
        "id": "bp5HbqtQ5U9C",
        "colab_type": "text"
      },
      "source": [
        "### 2.2. Generate the Logistic Regression Model"
      ]
    },
    {
      "cell_type": "markdown",
      "metadata": {
        "id": "xFozuJ3e5Yi_",
        "colab_type": "text"
      },
      "source": [
        "#### Generate the `logistic regression`\n",
        "\n",
        "Define the following `logistic regression` with a `high dimensional function feature function`.\n",
        "\n",
        "\\begin{equation*}\n",
        "\\hat{h} = \\sigma(z) \\\\\n",
        "z = g(x, y; \\theta), \\quad\\text{where } \\theta = (\\theta_{0}, \\theta_{1}, ..., \\theta_{28\\times28}) \\\\\n",
        "g(x, y; \\theta) = \\theta_1 x_1 + \\theta_2 x_2 + ... + \\theta_{28\\times28} x_{28\\times28} \\\\\n",
        "\\sigma(z) = \\frac{1}{1 + exp(-z)} \\\\\n",
        "\\sigma'(z) = \\sigma(z)(1 - \\sigma(z)) \\\\\n",
        "\\end{equation*}"
      ]
    },
    {
      "cell_type": "markdown",
      "metadata": {
        "id": "_Td7c0f-iHyK",
        "colab_type": "text"
      },
      "source": [
        "Define the `function` $g(x, y; \\theta)$:\n",
        "\\begin{equation}\n",
        "g(x, y; \\theta) = \\theta_1 x_1 + \\theta_2 x_2 + ... + \\theta_{28\\times28} x_{28\\times28}\n",
        "\\end{equation}"
      ]
    },
    {
      "cell_type": "code",
      "metadata": {
        "id": "xnAXhYwBeH2N",
        "colab_type": "code",
        "colab": {}
      },
      "source": [
        "def g(weight):\n",
        "    g_0  = np.empty(count_0, dtype=np.float128)\n",
        "    g_1  = np.empty(count_1, dtype=np.float128)\n",
        "    g_2  = np.empty(count_2, dtype=np.float128)\n",
        "    g_3  = np.empty(count_3, dtype=np.float128)\n",
        "    g_4  = np.empty(count_4, dtype=np.float128)\n",
        "    g_5  = np.empty(count_5, dtype=np.float128)\n",
        "    g_6  = np.empty(count_6, dtype=np.float128)\n",
        "    g_7  = np.empty(count_7, dtype=np.float128)\n",
        "    g_8  = np.empty(count_8, dtype=np.float128)\n",
        "    g_9  = np.empty(count_9, dtype=np.float128)\n",
        "\n",
        "    for i in range(count_0):\n",
        "        g_0[i] = np.dot(list_image_0[:, i], weight)\n",
        "    for i in range(count_1):\n",
        "        g_1[i] = np.dot(list_image_1[:, i], weight)\n",
        "    for i in range(count_2):\n",
        "        g_2[i] = np.dot(list_image_2[:, i], weight)\n",
        "    for i in range(count_3):\n",
        "        g_3[i] = np.dot(list_image_3[:, i], weight)\n",
        "    for i in range(count_4):\n",
        "        g_4[i] = np.dot(list_image_4[:, i], weight)\n",
        "    for i in range(count_5):\n",
        "        g_5[i] = np.dot(list_image_5[:, i], weight)\n",
        "    for i in range(count_6):\n",
        "        g_6[i] = np.dot(list_image_6[:, i], weight)\n",
        "    for i in range(count_7):\n",
        "        g_7[i] = np.dot(list_image_7[:, i], weight)\n",
        "    for i in range(count_8):\n",
        "        g_8[i] = np.dot(list_image_8[:, i], weight)\n",
        "    for i in range(count_9):\n",
        "        g_9[i] = np.dot(list_image_9[:, i], weight)\n",
        "    return g_0, g_1, g_2, g_3, g_4, g_5, g_6, g_7, g_8, g_9"
      ],
      "execution_count": 0,
      "outputs": []
    },
    {
      "cell_type": "markdown",
      "metadata": {
        "id": "JwEIlM7vEbQi",
        "colab_type": "text"
      },
      "source": [
        "Define the following `sigmoid function` as an `activation function`.\n",
        "\n",
        "\\begin{equation*}\n",
        "\\hat{h} = \\sigma(z), \\text{ where }\n",
        "\\sigma(z) = \\frac{1}{1 + exp(-z)}, \\\\\n",
        "z = g(x, y; \\theta) = \\sum_{i = 0}^9\\sum_{j = 0}^9\\theta_{i, j}x^iy^j \\\\\n",
        "\\end{equation*}"
      ]
    },
    {
      "cell_type": "code",
      "metadata": {
        "id": "lF_EH1XyYihP",
        "colab_type": "code",
        "colab": {}
      },
      "source": [
        "def logistic_unit(weight):\n",
        "    y_sigmoid_function = []\n",
        "    for i in range(10):\n",
        "        y_sigmoid_function.append([])\n",
        "    z = g(weight)\n",
        "    for i in range(count_0):\n",
        "        y_sigmoid_function[0].append(1/(1 + np.exp(-z[0][i])))\n",
        "    for i in range(count_1):\n",
        "        y_sigmoid_function[1].append(1/(1 + np.exp(-z[1][i])))\n",
        "    for i in range(count_2):\n",
        "        y_sigmoid_function[2].append(1/(1 + np.exp(-z[2][i])))\n",
        "    for i in range(count_3):\n",
        "        y_sigmoid_function[3].append(1/(1 + np.exp(-z[3][i])))\n",
        "    for i in range(count_4):\n",
        "        y_sigmoid_function[4].append(1/(1 + np.exp(-z[4][i])))\n",
        "    for i in range(count_5):\n",
        "        y_sigmoid_function[5].append(1/(1 + np.exp(-z[5][i])))\n",
        "    for i in range(count_6):\n",
        "        y_sigmoid_function[6].append(1/(1 + np.exp(-z[6][i])))\n",
        "    for i in range(count_7):\n",
        "        y_sigmoid_function[7].append(1/(1 + np.exp(-z[7][i])))\n",
        "    for i in range(count_8):\n",
        "        y_sigmoid_function[8].append(1/(1 + np.exp(-z[8][i])))\n",
        "    for i in range(count_9):\n",
        "        y_sigmoid_function[9].append(1/(1 + np.exp(-z[9][i])))\n",
        "    return y_sigmoid_function"
      ],
      "execution_count": 0,
      "outputs": []
    },
    {
      "cell_type": "markdown",
      "metadata": {
        "id": "S_dYkIe1CwwP",
        "colab_type": "text"
      },
      "source": [
        "### 2.2. Generate the `Objective uction`"
      ]
    },
    {
      "cell_type": "markdown",
      "metadata": {
        "id": "0PIj7i3vDSvN",
        "colab_type": "text"
      },
      "source": [
        "Define the following `objective function`.\n",
        "\n",
        "\\begin{equation*}\n",
        "J(\\theta) = \\frac{1}{m}​\\sum_{i = 1}^m​\\sum_{k = 0}^9​(−l_k^{(i)}​log(h_k^{(i)}​)−(1−l_k^{(i)}​)log(1−h_k^{(i)}​)), \\\\\n",
        "\\text{where,}\\quad \\theta = (u, v, w), \\text{ and $h_k^{(i)}$ denotes the $k^{th}$ element of the output layer for $i^{th}$ sample data.}\n",
        "\\end{equation*}"
      ]
    },
    {
      "cell_type": "markdown",
      "metadata": {
        "id": "cirfXRGhEcYF",
        "colab_type": "text"
      },
      "source": [
        "### 2.3. Generate the `Gradient Descent` (`Back-Propagation`)"
      ]
    },
    {
      "cell_type": "markdown",
      "metadata": {
        "id": "oa7zkkL1DPfF",
        "colab_type": "text"
      },
      "source": [
        "Define the `learning rate`.\n",
        "\n",
        "\\begin{equation*}\n",
        "\\alpha  = 1\n",
        "\\end{equation*}"
      ]
    },
    {
      "cell_type": "markdown",
      "metadata": {
        "id": "tpyybBUmEz2W",
        "colab_type": "text"
      },
      "source": [
        "Define the following `gradient descent`.\n",
        "\n",
        "\\begin{equation*}\n",
        "\\theta_k^{(t + 1)} := \\theta_k^{(t)} - \\alpha\\frac{\\partial J(\\theta)}{\\partial \\theta_k}, \\quad\\text{for all $k$}.\n",
        "\\end{equation*}"
      ]
    },
    {
      "cell_type": "markdown",
      "metadata": {
        "id": "zTQ5fNon_luS",
        "colab_type": "text"
      },
      "source": [
        "### 2.4. `Train` the input data"
      ]
    },
    {
      "cell_type": "markdown",
      "metadata": {
        "id": "VmCtCARLAJiS",
        "colab_type": "text"
      },
      "source": [
        "Define the `initial conditions` of `weights` $(\\theta_{0}^{(0)}, \\theta_{1}^{(0)}, \\theta_{2}^{(0)}, ..., \\theta_{28\\times28}^{(0)})$. \\\\\n",
        "The `weights` ar following a `normal distribution` $\\mathcal{N}(0, \\sigma^2)$ with `mean` 0 and `standard deviation` some number."
      ]
    },
    {
      "cell_type": "markdown",
      "metadata": {
        "id": "2aw4kFwBGOgn",
        "colab_type": "text"
      },
      "source": [
        "Define the `standard deviation`. \\\\\n",
        "\n",
        "\\begin{equation*}\n",
        "\\sigma = 1\n",
        "\\end{equation*}"
      ]
    },
    {
      "cell_type": "code",
      "metadata": {
        "id": "XP0O-QmmYih8",
        "colab_type": "code",
        "colab": {}
      },
      "source": [
        "weight = np.random.randn(size_row*size_col)\n",
        "list_weight = np.empty((size_row*size_col, 1), dtype=np.float128)\n",
        "list_weight[:, 0] = weight"
      ],
      "execution_count": 0,
      "outputs": []
    },
    {
      "cell_type": "markdown",
      "metadata": {
        "id": "bKT5lGy2A5V8",
        "colab_type": "text"
      },
      "source": [
        "`Train` the `train data` with the `Neural Network Architecture` above with the `gradient descent`. \\\\\n",
        "Find `optimal parameters` $\\theta$ using the `traing data` (the first `6,000 images`)."
      ]
    },
    {
      "cell_type": "code",
      "metadata": {
        "id": "jqg-AemPG92m",
        "colab_type": "code",
        "colab": {}
      },
      "source": [
        "sigmoid = []\n",
        "sigmoid = logistic_unit(list_weight)"
      ],
      "execution_count": 0,
      "outputs": []
    },
    {
      "cell_type": "markdown",
      "metadata": {
        "id": "W6J19EkYGkSP",
        "colab_type": "text"
      },
      "source": [
        "### 2.5. `Test` the input data"
      ]
    },
    {
      "cell_type": "markdown",
      "metadata": {
        "id": "wWphtyKHGxcj",
        "colab_type": "text"
      },
      "source": [
        "`Test` the `test data` with the `Neural Network Architecture` above with the `obtained parameters` $\\theta$ from the `training process` using the `testing data` (the rest `4,000 images`)."
      ]
    },
    {
      "cell_type": "markdown",
      "metadata": {
        "id": "-X6BNkI08Gp6",
        "colab_type": "text"
      },
      "source": [
        "### 2.3. Present the `output` of the `neural network` with `random weights`"
      ]
    },
    {
      "cell_type": "markdown",
      "metadata": {
        "id": "E45TJ3Qe8SzY",
        "colab_type": "text"
      },
      "source": [
        "Consider a `neural network` with a `fully connected layer` using a `logistic unit` without a `bias`. \\\\\n",
        "Assign `random values` from the `normal distribution` $\\mathcal{N}(0, 1)$ with `mean` 0 and `standard deviation` 1 to the `weights` of the `fully connected layer` using a `logistic unit` without a `bias`. \\\\\n",
        "Compute the `forward propagation` and take the `average` of the `output values` for the `images` of the `same label`.\n",
        "Present the `average values` for `each label` in the `increasing order` of the `label`."
      ]
    },
    {
      "cell_type": "code",
      "metadata": {
        "id": "HxrK7uej8TwO",
        "colab_type": "code",
        "colab": {}
      },
      "source": [
        "averaage_0 = np.mean(sigmoid[0])\n",
        "averaage_1 = np.mean(sigmoid[1])\n",
        "averaage_2 = np.mean(sigmoid[2])\n",
        "averaage_3 = np.mean(sigmoid[3])\n",
        "averaage_4 = np.mean(sigmoid[4])\n",
        "averaage_5 = np.mean(sigmoid[5])\n",
        "averaage_6 = np.mean(sigmoid[6])\n",
        "averaage_7 = np.mean(sigmoid[7])\n",
        "averaage_8 = np.mean(sigmoid[8])\n",
        "averaage_9 = np.mean(sigmoid[9])"
      ],
      "execution_count": 0,
      "outputs": []
    },
    {
      "cell_type": "code",
      "metadata": {
        "id": "rjPcqE9u9IK6",
        "colab_type": "code",
        "colab": {}
      },
      "source": [
        "print('label 0 : ', averaage_0)\n",
        "print('label 1 : ', averaage_1)\n",
        "print('label 2 : ', averaage_2)\n",
        "print('label 3 : ', averaage_3)\n",
        "print('label 4 : ', averaage_4)\n",
        "print('label 5 : ', averaage_5)\n",
        "print('label 6 : ', averaage_6)\n",
        "print('label 7 : ', averaage_7)\n",
        "print('label 8 : ', averaage_8)\n",
        "print('label 9 : ', averaage_9)"
      ],
      "execution_count": 0,
      "outputs": []
    },
    {
      "cell_type": "markdown",
      "metadata": {
        "id": "J7KprHVQDhY3",
        "colab_type": "text"
      },
      "source": [
        "## 3. **Results**"
      ]
    },
    {
      "cell_type": "markdown",
      "metadata": {
        "id": "yqRkLfC5Dlpq",
        "colab_type": "text"
      },
      "source": [
        "### 1. **Plot the loss curve**"
      ]
    },
    {
      "cell_type": "markdown",
      "metadata": {
        "id": "F4ysZpDTDojS",
        "colab_type": "text"
      },
      "source": [
        "Plot the `training loss` at `every iteration` of `gradient descent` using the `training data` (the first `6,000 images`) (in `blue` color). \\\\\n",
        "Plot the `testing loss` at `every iteration` of `gradient descent` using the `testing data` (the rest `4,000 images`) in `red` color. \\\\\n",
        "The both `curves` should be presented in `one figure`.\n"
      ]
    },
    {
      "cell_type": "code",
      "metadata": {
        "id": "pyyRWqECQaxN",
        "colab_type": "code",
        "colab": {}
      },
      "source": [
        "f1 = plt.figure(figsize=(8, 4))\n",
        "\n",
        "plotMean(list_image_0, 0)\n",
        "plotMean(list_image_1, 1)\n",
        "plotMean(list_image_2, 2)\n",
        "plotMean(list_image_3, 3)\n",
        "plotMean(list_image_4, 4)\n",
        "plotMean(list_image_5, 5)\n",
        "plotMean(list_image_6, 6)\n",
        "plotMean(list_image_7, 7)\n",
        "plotMean(list_image_8, 8)\n",
        "plotMean(list_image_9, 9)\n",
        "\n",
        "plt.show()"
      ],
      "execution_count": 0,
      "outputs": []
    },
    {
      "cell_type": "markdown",
      "metadata": {
        "id": "WMDeilIRDuS2",
        "colab_type": "text"
      },
      "source": [
        "### 2. **Present the accuracy curve**"
      ]
    },
    {
      "cell_type": "markdown",
      "metadata": {
        "id": "TuqmpAX-w96y",
        "colab_type": "text"
      },
      "source": [
        "Plot the `training accuracy` (%) at `every iteration` of `gradient descent` using the `training data` (the first `6,000 images`) (in `blue` color). \\\\\n",
        "plot the `testing accuracy` (%) at `every iteration` of `gradient descent` using the `testing data` (the rest `4,000 images`) (in `red` color). \\\\\n",
        "The both `curves` should be presented in `one figure`."
      ]
    },
    {
      "cell_type": "code",
      "metadata": {
        "id": "3EpsSm9ow880",
        "colab_type": "code",
        "colab": {}
      },
      "source": [
        "print('label 0 : ', averaage_0)\n",
        "print('label 1 : ', averaage_1)\n",
        "print('label 2 : ', averaage_2)\n",
        "print('label 3 : ', averaage_3)\n",
        "print('label 4 : ', averaage_4)\n",
        "print('label 5 : ', averaage_5)\n",
        "print('label 6 : ', averaage_6)\n",
        "print('label 7 : ', averaage_7)\n",
        "print('label 8 : ', averaage_8)\n",
        "print('label 9 : ', averaage_9)"
      ],
      "execution_count": 0,
      "outputs": []
    },
    {
      "cell_type": "markdown",
      "metadata": {
        "id": "ADlDFzpL83CC",
        "colab_type": "text"
      },
      "source": [
        "### 3. **Plot the accuracy value**"
      ]
    },
    {
      "cell_type": "markdown",
      "metadata": {
        "id": "wLdK0PDL9Dgm",
        "colab_type": "text"
      },
      "source": [
        "Print the `final training accuracy` (%) using the `training data` (the first `6,000 images`). \\\\\n",
        "Print the `final testing accuracy` (%) using the `testing data` (the rest `4,000 images`)."
      ]
    },
    {
      "cell_type": "markdown",
      "metadata": {
        "id": "1wi-UAjz9Vr6",
        "colab_type": "text"
      },
      "source": [
        "### 4. **Plot the classification example**"
      ]
    },
    {
      "cell_type": "markdown",
      "metadata": {
        "id": "DnIjkdNZ9a5j",
        "colab_type": "text"
      },
      "source": [
        "Present `10 correctly classified testing images` with their `labels` at the title of each sub-figure in `2x5 array`. \\\\\n",
        "Present `10 misclassified testing images` with their misclassified `labels` at the title of each sub-figure in `2x5 array`."
      ]
    }
  ]
}