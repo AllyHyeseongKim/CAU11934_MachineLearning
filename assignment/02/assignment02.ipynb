{
  "nbformat": 4,
  "nbformat_minor": 0,
  "metadata": {
    "colab": {
      "name": "assignment02.ipynb",
      "provenance": [],
      "private_outputs": true,
      "collapsed_sections": [],
      "mount_file_id": "1sGF5hjLwmx0LV0MSIYPnRTkY5KpkIp3V",
      "authorship_tag": "ABX9TyOqyLBfVDsOxJS2Rq1ki8nF",
      "include_colab_link": true
    },
    "kernelspec": {
      "name": "python3",
      "display_name": "Python 3"
    },
    "accelerator": "GPU"
  },
  "cells": [
    {
      "cell_type": "markdown",
      "metadata": {
        "id": "view-in-github",
        "colab_type": "text"
      },
      "source": [
        "<a href=\"https://colab.research.google.com/github/AllyHyeseongKim/CAU11934_MachineLarning/blob/master/assignment/02/assignment02.ipynb\" target=\"_parent\"><img src=\"https://colab.research.google.com/assets/colab-badge.svg\" alt=\"Open In Colab\"/></a>"
      ]
    },
    {
      "cell_type": "markdown",
      "metadata": {
        "id": "b3HFlGTtDSEh",
        "colab_type": "text"
      },
      "source": [
        "# Assignment02: Linear Regression"
      ]
    },
    {
      "cell_type": "markdown",
      "metadata": {
        "id": "OPRFPwJNDlQh",
        "colab_type": "text"
      },
      "source": [
        "### 1. Data"
      ]
    },
    {
      "cell_type": "markdown",
      "metadata": {
        "id": "WTrsdkB0F-pn",
        "colab_type": "text"
      },
      "source": [
        "### 2. Linear Model"
      ]
    },
    {
      "cell_type": "markdown",
      "metadata": {
        "id": "B6KFuzUYGBkp",
        "colab_type": "text"
      },
      "source": [
        "### 3. Objective Function"
      ]
    },
    {
      "cell_type": "markdown",
      "metadata": {
        "id": "EW6eP9avGEcs",
        "colab_type": "text"
      },
      "source": [
        "### 4. Gradient Decent"
      ]
    },
    {
      "cell_type": "markdown",
      "metadata": {
        "id": "qXY4VTVTGdbn",
        "colab_type": "text"
      },
      "source": [
        "## **Input data**"
      ]
    },
    {
      "cell_type": "markdown",
      "metadata": {
        "id": "8ZPgSosqHF8h",
        "colab_type": "text"
      },
      "source": [
        "### Generate the input data\n",
        "\n",
        "$$\\begin{eqnarray}\n",
        "a &=& -1, b &=& 5, m &=& 100, \\sigma &=& 15\n",
        "\\end{eqnarray}$$\n"
      ]
    },
    {
      "cell_type": "markdown",
      "metadata": {
        "id": "5p88LO9LLzaI",
        "colab_type": "text"
      },
      "source": [
        "$$\\begin{eqnarray}\n",
        "n \\sim \\mathcal{N}(0, \\sigma^2)\n",
        "\\end{eqnarray}$$"
      ]
    },
    {
      "cell_type": "markdown",
      "metadata": {
        "id": "x6b2M-6GIcK3",
        "colab_type": "text"
      },
      "source": [
        "Plot a `straight line` that is the graph of a linear function in `blue color`. \\\\\n",
        "Plot a set of `points` that have `random` perturbations with respect to the straight line in `black color`."
      ]
    },
    {
      "cell_type": "markdown",
      "metadata": {
        "id": "sTq8U9U7H0x9",
        "colab_type": "text"
      },
      "source": [
        "## **Output Results**"
      ]
    },
    {
      "cell_type": "markdown",
      "metadata": {
        "id": "u4p07SZ5IKs4",
        "colab_type": "text"
      },
      "source": [
        "## **Plotting the energy values**"
      ]
    },
    {
      "cell_type": "markdown",
      "metadata": {
        "id": "jZV5pvRAISMl",
        "colab_type": "text"
      },
      "source": [
        "## **Plotting the model parameters**"
      ]
    }
  ]
}