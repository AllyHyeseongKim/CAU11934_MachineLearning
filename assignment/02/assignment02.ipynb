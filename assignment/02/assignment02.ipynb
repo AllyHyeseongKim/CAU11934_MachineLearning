{
  "nbformat": 4,
  "nbformat_minor": 0,
  "metadata": {
    "colab": {
      "name": "assignment02.ipynb",
      "provenance": [],
      "private_outputs": true,
      "collapsed_sections": [],
      "mount_file_id": "1sGF5hjLwmx0LV0MSIYPnRTkY5KpkIp3V",
      "authorship_tag": "ABX9TyNFly95cZZUzW8KMWAu0DyD",
      "include_colab_link": true
    },
    "kernelspec": {
      "name": "python3",
      "display_name": "Python 3"
    },
    "accelerator": "GPU"
  },
  "cells": [
    {
      "cell_type": "markdown",
      "metadata": {
        "id": "view-in-github",
        "colab_type": "text"
      },
      "source": [
        "<a href=\"https://colab.research.google.com/github/AllyHyeseongKim/CAU11934_MachineLarning/blob/master/assignment/02/assignment02.ipynb\" target=\"_parent\"><img src=\"https://colab.research.google.com/assets/colab-badge.svg\" alt=\"Open In Colab\"/></a>"
      ]
    },
    {
      "cell_type": "markdown",
      "metadata": {
        "id": "b3HFlGTtDSEh",
        "colab_type": "text"
      },
      "source": [
        "# Assignment02: Linear Regression"
      ]
    },
    {
      "cell_type": "markdown",
      "metadata": {
        "id": "S7OGofT1isPd",
        "colab_type": "text"
      },
      "source": [
        "## 1. Pre-process the input data"
      ]
    },
    {
      "cell_type": "markdown",
      "metadata": {
        "id": "8ZPgSosqHF8h",
        "colab_type": "text"
      },
      "source": [
        "### Generate the input data\n",
        "\n"
      ]
    },
    {
      "cell_type": "code",
      "metadata": {
        "id": "jR7xo1_vNmO8",
        "colab_type": "code",
        "colab": {}
      },
      "source": [
        "import matplotlib.pyplot as plt\n",
        "import numpy as np\n",
        "import random"
      ],
      "execution_count": 0,
      "outputs": []
    },
    {
      "cell_type": "markdown",
      "metadata": {
        "id": "UFgKnEPGNrvl",
        "colab_type": "text"
      },
      "source": [
        "Define a `straight line` that is the graph of a `linear function`.\n",
        "\n",
        "\\begin{equation*}\n",
        "\\hat{y} = ax + b,\n",
        "\\quad\\quad \\text{for $a = -1, b = 5$}.\n",
        "\\end{equation*}"
      ]
    },
    {
      "cell_type": "code",
      "metadata": {
        "id": "zmmsWT89Nk-H",
        "colab_type": "code",
        "colab": {}
      },
      "source": [
        "a = 15\n",
        "b = 50"
      ],
      "execution_count": 0,
      "outputs": []
    },
    {
      "cell_type": "code",
      "metadata": {
        "id": "cV3UgtfJbs1q",
        "colab_type": "code",
        "colab": {}
      },
      "source": [
        "x = np.arange(-100, 100)\n",
        "y_hat = a * x + b\n",
        "\n",
        "plt.plot(x, y_hat, color = 'blue')\n",
        "plt.show()"
      ],
      "execution_count": 0,
      "outputs": []
    },
    {
      "cell_type": "markdown",
      "metadata": {
        "id": "a68FCfu0P2Xi",
        "colab_type": "text"
      },
      "source": [
        "Define a set of `points` that have `random` perturbations below using random function based on the linear function defined above.\n",
        "\n",
        "\\begin{equation*}\n",
        "\\{ (x^{(i)}, y^{(i)}) \\}_{i = 1}^m,\n",
        "\\quad\\quad \\text{for $y = \\hat{y} + n, m = 300$},\n",
        "\\text{where $n \\sim \\mathcal{N}(0, \\sigma^2), \\sigma = 15$}\n",
        "\\end{equation*}"
      ]
    },
    {
      "cell_type": "code",
      "metadata": {
        "id": "EQBYdtRNbt_G",
        "colab_type": "code",
        "colab": {}
      },
      "source": [
        "mean = 0.0\n",
        "sigma = 15\n",
        "m = 100"
      ],
      "execution_count": 0,
      "outputs": []
    },
    {
      "cell_type": "code",
      "metadata": {
        "id": "af4rgDmdP7C5",
        "colab_type": "code",
        "colab": {}
      },
      "source": [
        "x_train = []\n",
        "y_train = []\n",
        "\n",
        "np.random.seed(100)\n",
        "for i in range(m):\n",
        "    x_train.append(random.randrange(-100, 100))\n",
        "x_train.sort()\n",
        "\n",
        "for i in range(m):\n",
        "    y_train.append(a * x_train[i] + b + np.random.normal(mean, sigma))\n",
        "\n",
        "print(x_train, y_train)\n",
        "plt.plot(x_train, y_train, 'o', color = 'black')\n",
        "plt.show()"
      ],
      "execution_count": 0,
      "outputs": []
    },
    {
      "cell_type": "markdown",
      "metadata": {
        "id": "x6b2M-6GIcK3",
        "colab_type": "text"
      },
      "source": [
        "Plot a `straight line` that is the graph of a linear function in `blue color`. \\\\\n",
        "Plot a set of `points` that have `random` perturbations with respect to the straight line in `black color`."
      ]
    },
    {
      "cell_type": "code",
      "metadata": {
        "id": "yceV-m210Z1p",
        "colab_type": "code",
        "colab": {}
      },
      "source": [
        "plt.plot(x_train, y_train, 'o', color = 'black')\n",
        "plt.plot(x, y_hat, color = 'blue')\n",
        "plt.show()"
      ],
      "execution_count": 0,
      "outputs": []
    },
    {
      "cell_type": "markdown",
      "metadata": {
        "id": "HHs66m0Gi5mI",
        "colab_type": "text"
      },
      "source": [
        "# 2. Generate the `Linear Regression` model"
      ]
    },
    {
      "cell_type": "markdown",
      "metadata": {
        "id": "ZDlURdAvU1K9",
        "colab_type": "text"
      },
      "source": [
        "### Generate the `linear regression`\n",
        "\n",
        "Define the following `Linear Model`.\n",
        "\n",
        "\\begin{equation*}\n",
        "h_\\theta(x) = \\theta_0 + \\theta_1 x,\n",
        "\\quad\\quad \\text{where $\\theta = (\\theta_0, \\theta_1)$ and $\\theta_0, \\theta_1∈ R$}\n",
        "\\end{equation*}"
      ]
    },
    {
      "cell_type": "code",
      "metadata": {
        "id": "pO9K01YlVB76",
        "colab_type": "code",
        "colab": {}
      },
      "source": [
        "def linear_regression(weight, offset):\n",
        "    y_linear_regression = []\n",
        "    for i in range(m):\n",
        "        y_linear_regression.append(offset + weight * x_train[i])\n",
        "    return y_linear_regression"
      ],
      "execution_count": 0,
      "outputs": []
    },
    {
      "cell_type": "markdown",
      "metadata": {
        "id": "6mtoZYN9jFlm",
        "colab_type": "text"
      },
      "source": [
        "## 3. Generate the `Cost Function` with `Gradient Descent` method\n"
      ]
    },
    {
      "cell_type": "markdown",
      "metadata": {
        "id": "4prCxwoiT0lF",
        "colab_type": "text"
      },
      "source": [
        "### Generate the `objective function`\n",
        "\n",
        "Define the following `objective function`.\n",
        "\n",
        "\\begin{equation*}\n",
        "J(\\theta) = \\frac{1}{2m}\\sum_{i = 1}^m(h_\\theta(x^{(i)}) - y^{(i)})^2\n",
        "\\end{equation*}"
      ]
    },
    {
      "cell_type": "code",
      "metadata": {
        "id": "U3Igx7tlW3ji",
        "colab_type": "code",
        "colab": {}
      },
      "source": [
        "def object_function(y_linear_regression):\n",
        "    error = []\n",
        "    for i in range(m):\n",
        "        error.append(round(y_linear_regression[i] - y_train[i], 2))\n",
        "    return round(sum(error) ** 2 / (2 * m), 2)"
      ],
      "execution_count": 0,
      "outputs": []
    },
    {
      "cell_type": "markdown",
      "metadata": {
        "id": "l1Rct_RuZ5u-",
        "colab_type": "text"
      },
      "source": [
        "### Generate the `gradient descent`"
      ]
    },
    {
      "cell_type": "markdown",
      "metadata": {
        "id": "FuvfDa17x18_",
        "colab_type": "text"
      },
      "source": [
        "Define the following `gradient descent`.\n",
        "\n",
        "\\begin{equation*}\n",
        "\\theta_0^{(t+1)} := \\theta_0^{(t)} - \\alpha\\frac{1}{m}\\sum_{i = 1}^m(h_\\theta(x^{(i)}) - y^{(i)}) \\\\\n",
        "\\theta_1^{(t+1)} := \\theta_1^{(t)} - \\alpha\\frac{1}{m}\\sum_{i = 1}^m(h_\\theta(x^{(i)}) - y^{(i)})x^{(i)}\n",
        "\\end{equation*}"
      ]
    },
    {
      "cell_type": "markdown",
      "metadata": {
        "id": "NynGDVj9yVSK",
        "colab_type": "text"
      },
      "source": [
        "Define the `learning rate`.\n",
        "\n",
        "\\begin{equation*}\n",
        "\\alpha  = 0.00008\n",
        "\\end{equation*}"
      ]
    },
    {
      "cell_type": "code",
      "metadata": {
        "id": "5teLAmjrbdsA",
        "colab_type": "code",
        "colab": {}
      },
      "source": [
        "learning_rate = 0.00008"
      ],
      "execution_count": 0,
      "outputs": []
    },
    {
      "cell_type": "code",
      "metadata": {
        "id": "G-5vLwE0aGtu",
        "colab_type": "code",
        "colab": {}
      },
      "source": [
        "def gradient_descent(weight, offset, y_linear_regression):\n",
        "    offset_error = []\n",
        "    for i in range(m):\n",
        "        offset_error.append(y_linear_regression[i] - y_train[i])\n",
        "    offset = offset - learning_rate * sum(offset_error) / m\n",
        "    weight_error = []\n",
        "    for i in range(m):\n",
        "        weight_error.append((y_linear_regression[i] - y_train[i]) * x_train[i])\n",
        "    weight = weight - learning_rate * sum(weight_error) / m\n",
        "    return weight, offset"
      ],
      "execution_count": 0,
      "outputs": []
    },
    {
      "cell_type": "markdown",
      "metadata": {
        "id": "fBNc7jw1ijMz",
        "colab_type": "text"
      },
      "source": [
        "## 4. `Train` the input data"
      ]
    },
    {
      "cell_type": "markdown",
      "metadata": {
        "id": "3KBT3WJMytd6",
        "colab_type": "text"
      },
      "source": [
        "Define the initial `weight` and `offset`.\n",
        "\n",
        "\\begin{equation*}\n",
        "\\theta_0^{(0)}  = 50, \\theta_1^{(0)}  = 100\n",
        "\\end{equation*}"
      ]
    },
    {
      "cell_type": "code",
      "metadata": {
        "id": "2vEd67CcfkDy",
        "colab_type": "code",
        "colab": {}
      },
      "source": [
        "weight = []\n",
        "offset = []\n",
        "weight.append(100)\n",
        "offset.append(50)"
      ],
      "execution_count": 0,
      "outputs": []
    },
    {
      "cell_type": "code",
      "metadata": {
        "id": "eaLwK8iMq_rN",
        "colab_type": "code",
        "colab": {}
      },
      "source": [
        "cost_convergence = []\n",
        "theta_convergence = []"
      ],
      "execution_count": 0,
      "outputs": []
    },
    {
      "cell_type": "markdown",
      "metadata": {
        "id": "8rNb1n0bzJBt",
        "colab_type": "text"
      },
      "source": [
        "`Train` the `input data` with the `linear regression` function above with the `gradient descent`."
      ]
    },
    {
      "cell_type": "code",
      "metadata": {
        "id": "lDpvFhVSdAR7",
        "colab_type": "code",
        "colab": {}
      },
      "source": [
        "h = []\n",
        "j = []\n",
        "i = 0\n",
        "# print(linear_regression(weight[0], offset[0]))\n",
        "# print(object_function(linear_regression(weight[0], offset[0])))\n",
        "h.append(linear_regression(weight[i], offset[i]))\n",
        "j.append(object_function(linear_regression(weight[i], offset[i])))\n",
        "# print(j)\n",
        "\n",
        "while i < m:\n",
        "    i = i + 1\n",
        "#    print(i)\n",
        "#    print(weight, offset, j, h)\n",
        "    weight.append(gradient_descent(weight[i - 1], offset[i - 1], h[i - 1])[0])\n",
        "    offset.append(gradient_descent(weight[i - 1], offset[i - 1], h[i - 1])[1])\n",
        "    h.append(linear_regression(weight[i], offset[i]))\n",
        "#    print(offset[i])\n",
        "#    print(round(j[i - 1], 2))\n",
        "    j.append(object_function(linear_regression(weight[i], offset[i])))\n",
        "    if round(j[i], 1) == round(j[i - 1],1):\n",
        "        cost_convergence.append(i)\n",
        "    if round(weight[i], 1) == round(weight[i - 1],1):\n",
        "        if (round(offset[i], 1) == round(offset[i - 1],1)):\n",
        "            theta_convergence.append(i)"
      ],
      "execution_count": 0,
      "outputs": []
    },
    {
      "cell_type": "markdown",
      "metadata": {
        "id": "PZi0Ga3fjmna",
        "colab_type": "text"
      },
      "source": [
        "# 5. Generate the Output `Linear Model`"
      ]
    },
    {
      "cell_type": "markdown",
      "metadata": {
        "id": "zrmw8NbakrC-",
        "colab_type": "text"
      },
      "source": [
        "Find the lowest cost value of the `Objective Function`, $J(\\theta)$, to find the `optimimal` result."
      ]
    },
    {
      "cell_type": "code",
      "metadata": {
        "id": "TJ2-OrXTj1y7",
        "colab_type": "code",
        "colab": {}
      },
      "source": [
        "index_minimum = j.index(min(j))\n",
        "# print(index_minimum)\n",
        "x = np.arange(-100, 100)\n",
        "y_linear_model = weight[index_minimum] * x + offset[index_minimum]"
      ],
      "execution_count": 0,
      "outputs": []
    },
    {
      "cell_type": "code",
      "metadata": {
        "id": "Jey0MeOnmIA3",
        "colab_type": "code",
        "colab": {}
      },
      "source": [
        "plt.plot(x_train, y_train, 'o', color = 'black')\n",
        "plt.plot(x, y_linear_model, color = 'red')\n",
        "plt.show()"
      ],
      "execution_count": 0,
      "outputs": []
    },
    {
      "cell_type": "markdown",
      "metadata": {
        "id": "jFiWZdr4s26v",
        "colab_type": "text"
      },
      "source": [
        "## 6. **Results**"
      ]
    },
    {
      "cell_type": "markdown",
      "metadata": {
        "id": "qXY4VTVTGdbn",
        "colab_type": "text"
      },
      "source": [
        "### 1. **Input data**"
      ]
    },
    {
      "cell_type": "markdown",
      "metadata": {
        "id": "bhXxlpHKuhnn",
        "colab_type": "text"
      },
      "source": [
        "Plot a `straight line` that is the graph of a linear function in `blue color`. \\\\\n",
        "Plot a set of `points` that have `random` perturbations with respect to the straight line in `black color`."
      ]
    },
    {
      "cell_type": "code",
      "metadata": {
        "id": "5mAvJE_ln9l6",
        "colab_type": "code",
        "colab": {}
      },
      "source": [
        "plt.plot(x_train, y_train, 'o', color = 'black')\n",
        "plt.plot(x, y_hat, color = 'blue')\n",
        "plt.show()"
      ],
      "execution_count": 0,
      "outputs": []
    },
    {
      "cell_type": "markdown",
      "metadata": {
        "id": "sTq8U9U7H0x9",
        "colab_type": "text"
      },
      "source": [
        "### 2. **Output Results**"
      ]
    },
    {
      "cell_type": "markdown",
      "metadata": {
        "id": "ksBcDyZsumzT",
        "colab_type": "text"
      },
      "source": [
        "Plot a `straight line` that is the graph of a solution obtained by `linear regression` in `red color`. \\\\\n",
        "Plot a set of `points` that have `random` perturbations with respect to the straight line in `black color`."
      ]
    },
    {
      "cell_type": "code",
      "metadata": {
        "id": "DE2li5NkoO3L",
        "colab_type": "code",
        "colab": {}
      },
      "source": [
        "plt.plot(x_train, y_train, 'o', color = 'black')\n",
        "plt.plot(x, y_linear_model, color = 'red')\n",
        "plt.show()"
      ],
      "execution_count": 0,
      "outputs": []
    },
    {
      "cell_type": "markdown",
      "metadata": {
        "id": "u4p07SZ5IKs4",
        "colab_type": "text"
      },
      "source": [
        "### 3. **Plotting the energy values**"
      ]
    },
    {
      "cell_type": "markdown",
      "metadata": {
        "id": "aSs29SeFuxFy",
        "colab_type": "text"
      },
      "source": [
        "Plot the value of the `objective function` at every optimization step by the `gradient descent` algorithm in `blue color`."
      ]
    },
    {
      "cell_type": "code",
      "metadata": {
        "id": "N7qeDRC3oRFL",
        "colab_type": "code",
        "colab": {}
      },
      "source": [
        "x_out = np.arange(0, cost_convergence[0] + 1)\n",
        "plt.plot(x_out, j[:cost_convergence[0] + 1], color = 'blue')\n",
        "plt.show()"
      ],
      "execution_count": 0,
      "outputs": []
    },
    {
      "cell_type": "markdown",
      "metadata": {
        "id": "jZV5pvRAISMl",
        "colab_type": "text"
      },
      "source": [
        "### 4. **Plotting the model parameters**"
      ]
    },
    {
      "cell_type": "markdown",
      "metadata": {
        "id": "Iztcv7Mqu_qs",
        "colab_type": "text"
      },
      "source": [
        "Plot the value of the `model parameters` $\\theta_0$​ and $\\theta_1$ at every optimization step in `red` $\\theta_0$​ and `blue` $\\theta_1$ colors."
      ]
    },
    {
      "cell_type": "code",
      "metadata": {
        "id": "evvFX23RHy37",
        "colab_type": "code",
        "colab": {}
      },
      "source": [
        "x_out = np.arange(0, theta_convergence[0] + 1)\n",
        "plt.plot(x_out, offset[:theta_convergence[0] + 1], color = 'red')\n",
        "plt.plot(x_out, weight[:theta_convergence[0] + 1], color = 'blue')\n",
        "plt.show()"
      ],
      "execution_count": 0,
      "outputs": []
    }
  ]
}