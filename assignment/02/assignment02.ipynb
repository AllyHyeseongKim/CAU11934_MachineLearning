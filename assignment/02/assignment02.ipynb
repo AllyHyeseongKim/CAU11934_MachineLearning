{
  "nbformat": 4,
  "nbformat_minor": 0,
  "metadata": {
    "colab": {
      "name": "assignment02.ipynb",
      "provenance": [],
      "private_outputs": true,
      "collapsed_sections": [],
      "mount_file_id": "1sGF5hjLwmx0LV0MSIYPnRTkY5KpkIp3V",
      "authorship_tag": "ABX9TyNxBtX0upy8bM2pPzyyGJ1X",
      "include_colab_link": true
    },
    "kernelspec": {
      "name": "python3",
      "display_name": "Python 3"
    },
    "accelerator": "GPU"
  },
  "cells": [
    {
      "cell_type": "markdown",
      "metadata": {
        "id": "view-in-github",
        "colab_type": "text"
      },
      "source": [
        "<a href=\"https://colab.research.google.com/github/AllyHyeseongKim/CAU11934_MachineLarning/blob/master/assignment/02/assignment02.ipynb\" target=\"_parent\"><img src=\"https://colab.research.google.com/assets/colab-badge.svg\" alt=\"Open In Colab\"/></a>"
      ]
    },
    {
      "cell_type": "markdown",
      "metadata": {
        "id": "b3HFlGTtDSEh",
        "colab_type": "text"
      },
      "source": [
        "# Assignment02: Linear Regression"
      ]
    },
    {
      "cell_type": "markdown",
      "metadata": {
        "id": "OPRFPwJNDlQh",
        "colab_type": "text"
      },
      "source": [
        "### 1. Data"
      ]
    },
    {
      "cell_type": "markdown",
      "metadata": {
        "id": "WTrsdkB0F-pn",
        "colab_type": "text"
      },
      "source": [
        "### 2. Linear Model"
      ]
    },
    {
      "cell_type": "markdown",
      "metadata": {
        "id": "B6KFuzUYGBkp",
        "colab_type": "text"
      },
      "source": [
        "### 3. Objective Function"
      ]
    },
    {
      "cell_type": "markdown",
      "metadata": {
        "id": "EW6eP9avGEcs",
        "colab_type": "text"
      },
      "source": [
        "### 4. Gradient Decent"
      ]
    },
    {
      "cell_type": "markdown",
      "metadata": {
        "id": "qXY4VTVTGdbn",
        "colab_type": "text"
      },
      "source": [
        "## **Input data**"
      ]
    },
    {
      "cell_type": "markdown",
      "metadata": {
        "id": "8ZPgSosqHF8h",
        "colab_type": "text"
      },
      "source": [
        "### Generate the input data\n",
        "\n"
      ]
    },
    {
      "cell_type": "code",
      "metadata": {
        "id": "jR7xo1_vNmO8",
        "colab_type": "code",
        "colab": {}
      },
      "source": [
        "import matplotlib.pyplot as plt\n",
        "import numpy as np\n",
        "import random"
      ],
      "execution_count": 0,
      "outputs": []
    },
    {
      "cell_type": "markdown",
      "metadata": {
        "id": "UFgKnEPGNrvl",
        "colab_type": "text"
      },
      "source": [
        "Define a `straight line` that is the graph of a `linear function`.\n",
        "\n",
        "\\begin{equation*}\n",
        "\\hat{y} = ax + b,\n",
        "\\quad\\quad \\text{for $a = -1, b = 5$}.\n",
        "\\end{equation*}"
      ]
    },
    {
      "cell_type": "code",
      "metadata": {
        "id": "zmmsWT89Nk-H",
        "colab_type": "code",
        "colab": {}
      },
      "source": [
        "a = 1\n",
        "b = 5"
      ],
      "execution_count": 0,
      "outputs": []
    },
    {
      "cell_type": "code",
      "metadata": {
        "id": "cV3UgtfJbs1q",
        "colab_type": "code",
        "colab": {}
      },
      "source": [
        "x = np.arange(-100, 100)\n",
        "y_hat = a * x + b\n",
        "\n",
        "plt.plot(x, y_hat, color = 'blue')\n",
        "plt.show()"
      ],
      "execution_count": 0,
      "outputs": []
    },
    {
      "cell_type": "markdown",
      "metadata": {
        "id": "a68FCfu0P2Xi",
        "colab_type": "text"
      },
      "source": [
        "Define a set of `points` that have `random` perturbations below using random function based on the linear function defined above.\n",
        "\n",
        "\\begin{equation*}\n",
        "\\{ (x^{(i)}, y^{(i)}) \\}_{i = 1}^m,\n",
        "\\quad\\quad \\text{for $y = \\hat{y} + n, m = 1000$},\n",
        "\\text{where $n \\sim \\mathcal{N}(0, \\sigma^2), \\sigma = 15$}\n",
        "\\end{equation*}"
      ]
    },
    {
      "cell_type": "code",
      "metadata": {
        "id": "EQBYdtRNbt_G",
        "colab_type": "code",
        "colab": {}
      },
      "source": [
        "mean = 0.0\n",
        "sigma = 15\n",
        "m = 100"
      ],
      "execution_count": 0,
      "outputs": []
    },
    {
      "cell_type": "code",
      "metadata": {
        "id": "af4rgDmdP7C5",
        "colab_type": "code",
        "colab": {}
      },
      "source": [
        "random_points = []\n",
        "\n",
        "np.random.seed(100)\n",
        "for i in range(m):\n",
        "    x_random = random.randrange(-100, 101)\n",
        "    y = a * x_random + b + np.random.normal(mean, sigma)\n",
        "    random_points.append([x_random, y])\n",
        "\n",
        "x_train = [p[0] for p in random_points]\n",
        "y_train = [p[1] for p in random_points]\n",
        "\n",
        "plt.plot(x_train, y_train, 'o', color = 'black')\n",
        "plt.show()"
      ],
      "execution_count": 0,
      "outputs": []
    },
    {
      "cell_type": "markdown",
      "metadata": {
        "id": "x6b2M-6GIcK3",
        "colab_type": "text"
      },
      "source": [
        "Plot a `straight line` that is the graph of a linear function in `blue color`. \\\\\n",
        "Plot a set of `points` that have `random` perturbations with respect to the straight line in `black color`."
      ]
    },
    {
      "cell_type": "code",
      "metadata": {
        "id": "yceV-m210Z1p",
        "colab_type": "code",
        "colab": {}
      },
      "source": [
        "plt.plot(x_train, y_train, 'o', color = 'black')\n",
        "plt.plot(x, y_hat, color = 'blue')\n",
        "plt.show()"
      ],
      "execution_count": 0,
      "outputs": []
    },
    {
      "cell_type": "markdown",
      "metadata": {
        "id": "u4p07SZ5IKs4",
        "colab_type": "text"
      },
      "source": [
        "## **Plotting the energy values**"
      ]
    },
    {
      "cell_type": "markdown",
      "metadata": {
        "id": "ZDlURdAvU1K9",
        "colab_type": "text"
      },
      "source": [
        "## Generate the linear regression"
      ]
    },
    {
      "cell_type": "code",
      "metadata": {
        "id": "pO9K01YlVB76",
        "colab_type": "code",
        "colab": {}
      },
      "source": [
        "def linear_regression(weight, offset, x_train):\n",
        "    return offset + weight * x_train"
      ],
      "execution_count": 0,
      "outputs": []
    },
    {
      "cell_type": "markdown",
      "metadata": {
        "id": "4prCxwoiT0lF",
        "colab_type": "text"
      },
      "source": [
        "## Generate the object function"
      ]
    },
    {
      "cell_type": "code",
      "metadata": {
        "id": "U3Igx7tlW3ji",
        "colab_type": "code",
        "colab": {}
      },
      "source": [
        "def object_function(m, linear_regression):\n",
        "    return (linear_regression - y_train) ** 2 / (2 * m)"
      ],
      "execution_count": 0,
      "outputs": []
    },
    {
      "cell_type": "markdown",
      "metadata": {
        "id": "l1Rct_RuZ5u-",
        "colab_type": "text"
      },
      "source": [
        "## Generate the gradient descent"
      ]
    },
    {
      "cell_type": "code",
      "metadata": {
        "id": "5teLAmjrbdsA",
        "colab_type": "code",
        "colab": {}
      },
      "source": [
        "learning_rate = 0.03"
      ],
      "execution_count": 0,
      "outputs": []
    },
    {
      "cell_type": "code",
      "metadata": {
        "id": "G-5vLwE0aGtu",
        "colab_type": "code",
        "colab": {}
      },
      "source": [
        "def gradient_descent(offset, weight):\n",
        "    offset = offset - learning_rate * (linear_regression - y_train) / m\n",
        "    weight = weight - learning_rate * (linear_regression - y_train) * x_train / m"
      ],
      "execution_count": 0,
      "outputs": []
    },
    {
      "cell_type": "markdown",
      "metadata": {
        "id": "jZV5pvRAISMl",
        "colab_type": "text"
      },
      "source": [
        "## **Plotting the model parameters**"
      ]
    },
    {
      "cell_type": "markdown",
      "metadata": {
        "id": "sTq8U9U7H0x9",
        "colab_type": "text"
      },
      "source": [
        "## **Output Results**"
      ]
    }
  ]
}