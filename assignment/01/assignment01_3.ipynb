{
  "nbformat": 4,
  "nbformat_minor": 0,
  "metadata": {
    "colab": {
      "name": "assignment01.ipynb",
      "provenance": [],
      "mount_file_id": "15uJkZYcPTTmdD_2ytmhJYZAJNReB2MYx",
      "authorship_tag": "ABX9TyM8VzV8JJ7EV3y6jd0I75ZG",
      "include_colab_link": true
    },
    "kernelspec": {
      "name": "python3",
      "display_name": "Python 3"
    },
    "accelerator": "GPU"
  },
  "cells": [
    {
      "cell_type": "markdown",
      "metadata": {
        "id": "view-in-github",
        "colab_type": "text"
      },
      "source": [
        "<a href=\"https://colab.research.google.com/github/AllyHyeseongKim/CAU11934_MachineLarning/blob/master/assignment/01/assignment01-3.ipynb\" target=\"_parent\"><img src=\"https://colab.research.google.com/assets/colab-badge.svg\" alt=\"Open In Colab\"/></a>"
      ]
    },
    {
      "cell_type": "markdown",
      "metadata": {
        "id": "MPPMk9twCflw",
        "colab_type": "text"
      },
      "source": [
        "# Start Python"
      ]
    },
    {
      "cell_type": "markdown",
      "metadata": {
        "id": "q-XUmvbD5kGl",
        "colab_type": "text"
      },
      "source": [
        "## Print out \"Hello World\""
      ]
    },
    {
      "cell_type": "code",
      "metadata": {
        "id": "GK6fkxu15n65",
        "colab_type": "code",
        "outputId": "dd09c3f3-32e6-4e65-fd6f-2df0bb9e7bb6",
        "colab": {
          "base_uri": "https://localhost:8080/",
          "height": 35
        }
      },
      "source": [
        "print(\"Hello World\")"
      ],
      "execution_count": 0,
      "outputs": [
        {
          "output_type": "stream",
          "text": [
            "Hello World\n"
          ],
          "name": "stdout"
        }
      ]
    },
    {
      "cell_type": "markdown",
      "metadata": {
        "id": "OtG1lP2qCogh",
        "colab_type": "text"
      },
      "source": [
        "## Draw a `heart` using Python"
      ]
    },
    {
      "cell_type": "markdown",
      "metadata": {
        "id": "2AaeTPtr59N7",
        "colab_type": "text"
      },
      "source": [
        "### **Heart Curve**\n",
        "\n",
        "A `heart curve` can be defined parametrically as\n",
        "\n",
        "$$\\begin{eqnarray}\n",
        "x &=& 16\\sin^3(t) \\\\\n",
        "y &=& 13\\cos(t) &-& 5\\cos(2t) &-& 2\\cos(3t) &-& \\cos(4t) . \\\\\n",
        "\\end{eqnarray}$$\n",
        "\n",
        "The above `parameteric equation` was used to plot the `heart` shape. \\\\\n",
        "(I refer to the following resource for the parameteric equation: https://mathworld.wolfram.com/HeartCurve.html)"
      ]
    },
    {
      "cell_type": "code",
      "metadata": {
        "id": "pxeVObpmCvci",
        "colab_type": "code",
        "colab": {}
      },
      "source": [
        "import matplotlib.pyplot as plt\n",
        "import numpy as np\n",
        "import pylab"
      ],
      "execution_count": 0,
      "outputs": []
    },
    {
      "cell_type": "code",
      "metadata": {
        "id": "SmMAX3YT_czg",
        "colab_type": "code",
        "outputId": "bad348c8-0a6d-41d7-e570-6553d5daee5f",
        "colab": {
          "base_uri": "https://localhost:8080/",
          "height": 265
        }
      },
      "source": [
        "t = np.arange(0, 2 * np.pi, 0.1)\n",
        "x = 16 * np.sin(t) ** 3\n",
        "y = 13 * np.cos(t) - 5 * np.cos(2 * t) - 2 * np.cos(3 * t)-np.cos(4 * t)\n",
        "plt.plot(x, y)\n",
        "plt.show()"
      ],
      "execution_count": 0,
      "outputs": [
        {
          "output_type": "display_data",
          "data": {
            "image/png": "[encoded data removed]",
            "text/plain": [
              "<Figure size 432x288 with 1 Axes>"
            ]
          },
          "metadata": {
            "tags": []
          }
        }
      ]
    }
  ]
}
