{
  "nbformat": 4,
  "nbformat_minor": 0,
  "metadata": {
    "colab": {
      "name": "assignment04.ipynb",
      "provenance": [],
      "private_outputs": true,
      "collapsed_sections": [],
      "authorship_tag": "ABX9TyMKntrmxi8axbmz6NR2qdCH",
      "include_colab_link": true
    },
    "kernelspec": {
      "name": "python3",
      "display_name": "Python 3"
    }
  },
  "cells": [
    {
      "cell_type": "markdown",
      "metadata": {
        "id": "view-in-github",
        "colab_type": "text"
      },
      "source": [
        "<a href=\"https://colab.research.google.com/github/AllyHyeseongKim/CAU11934_MachineLarning/blob/master/assignment/04/assignment04.ipynb\" target=\"_parent\"><img src=\"https://colab.research.google.com/assets/colab-badge.svg\" alt=\"Open In Colab\"/></a>"
      ]
    },
    {
      "cell_type": "markdown",
      "metadata": {
        "id": "YKyssBeNINGO",
        "colab_type": "text"
      },
      "source": [
        "# Assignment04: Linear regression with multiple variables"
      ]
    },
    {
      "cell_type": "markdown",
      "metadata": {
        "id": "Q1CghtcAIi5A",
        "colab_type": "text"
      },
      "source": [
        "## 1. Load the input data (CSV file)"
      ]
    },
    {
      "cell_type": "markdown",
      "metadata": {
        "id": "TIpyh88uImJ_",
        "colab_type": "text"
      },
      "source": [
        "### Mount the google drive "
      ]
    },
    {
      "cell_type": "code",
      "metadata": {
        "id": "hqtiZAWNmUKc",
        "colab_type": "code",
        "colab": {}
      },
      "source": [
        "from google.colab import drive\n",
        "\n",
        "drive.mount('/content/gdrive')"
      ],
      "execution_count": 0,
      "outputs": []
    },
    {
      "cell_type": "code",
      "metadata": {
        "id": "ysII75CRkMIe",
        "colab_type": "code",
        "colab": {}
      },
      "source": [
        "cd gdrive/My Drive/Colab Notebooks/Machine Learning/assignment04"
      ],
      "execution_count": 0,
      "outputs": []
    },
    {
      "cell_type": "code",
      "metadata": {
        "id": "r-64XTNAIq3G",
        "colab_type": "code",
        "colab": {}
      },
      "source": [
        "ls"
      ],
      "execution_count": 0,
      "outputs": []
    },
    {
      "cell_type": "markdown",
      "metadata": {
        "id": "ayDyfPQjjhac",
        "colab_type": "text"
      },
      "source": [
        "### Load the Data\n",
        "\n",
        "Load a set of data points $\\{ (x^{(i)}, y^{(i)}, z^{(i)}, h^{(i)}) \\}$ from the given `CSV file` (`'data_train.csv'`) for training. \\\\\n",
        "Print the set of points that are loaded from `'data_train.csv'` file. \\\\\n",
        "Load a set of data points $\\{ (x^{(i)}, y^{(i)}, z^{(i)}, h^{(i)}) \\}$ from the given `CSV file` (`'data_test.csv`) for testing. \\\\\n",
        "Print the set of points that are loaded from `'data_test.csv'` file."
      ]
    },
    {
      "cell_type": "code",
      "metadata": {
        "id": "chVEImkgjvNt",
        "colab_type": "code",
        "colab": {}
      },
      "source": [
        "import csv\n",
        "\n",
        "x_train = []\n",
        "y_train = []\n",
        "z_train = []\n",
        "h_train = []\n",
        "\n",
        "with open('data_train.csv', newline='') as myfile:\n",
        "    reader  = csv.reader(myfile, delimiter=',')\n",
        "    ct = 1 \n",
        "    for i in reader:\n",
        "        x_train.append(i[0])\n",
        "        y_train.append(i[1])\n",
        "        z_train.append(i[2])\n",
        "        h_train.append(i[3])\n",
        "        m = ct\n",
        "        ct += 1\n",
        "\n",
        "x_test = []\n",
        "y_test = []\n",
        "z_test = []\n",
        "h_test = []\n",
        "\n",
        "with open('data_test.csv', newline='') as myfile:\n",
        "    reader  = csv.reader(myfile, delimiter=',')\n",
        "    ct = 1 \n",
        "    for i in reader:\n",
        "        x_train.append(i[0])\n",
        "        y_train.append(i[1])\n",
        "        z_train.append(i[2])\n",
        "        h_train.append(i[3])\n",
        "        ct += 1"
      ],
      "execution_count": 0,
      "outputs": []
    },
    {
      "cell_type": "markdown",
      "metadata": {
        "id": "hGpMAEqlSwGW",
        "colab_type": "text"
      },
      "source": [
        "## 2. Generate the Linear Regression Model"
      ]
    },
    {
      "cell_type": "markdown",
      "metadata": {
        "id": "VUPi8bW-SyxY",
        "colab_type": "text"
      },
      "source": [
        "### Generate the `linear regression`\n",
        "\n",
        "Define the following `Linear Model`.\n",
        "\n",
        "\\begin{equation*}\n",
        "f_\\theta(x, y, z) = \\theta_0 + \\theta_1 x + \\theta_2 y + \\theta_3 z, \\quad\\quad \\text{where $\\theta = (\\theta_0, \\theta_1, \\theta_2, \\theta_3) $ and $\\theta_0, \\theta_1, \\theta_2, \\theta_3 \\in \\mathbb{R}$}\n",
        "\\end{equation*}"
      ]
    },
    {
      "cell_type": "code",
      "metadata": {
        "id": "6n5JMkOuTlmn",
        "colab_type": "code",
        "colab": {}
      },
      "source": [
        "def linear_regression(weight, offset):\n",
        "    y_linear_regression = []\n",
        "    for i in range(m):\n",
        "        y_linear_regression.append(offset + weight[0] * x_train[i] + weight[1] * y_train[i] + weight[2] * z_train[i])\n",
        "    return y_linear_regression"
      ],
      "execution_count": 0,
      "outputs": []
    },
    {
      "cell_type": "markdown",
      "metadata": {
        "id": "AunvzJ3TXMHf",
        "colab_type": "text"
      },
      "source": [
        "## 3. Generate the `Cost Function` with `Gradient Descent` method"
      ]
    },
    {
      "cell_type": "markdown",
      "metadata": {
        "id": "EYAa8TJlXOlI",
        "colab_type": "text"
      },
      "source": [
        "### Generate the `objective function`\n",
        "\n",
        "Define the following `objective function`.\n",
        "\n",
        "\\begin{equation*}\n",
        "J(\\theta_0, \\theta_1, \\theta_2, \\theta_3) = \\frac{1}{2m}\\sum_{i = 1}^m(\\theta_0 + \\theta_1x^{(i)} + \\theta_2y^{(i)} +\\theta_3z^{(i)} - h^{(i)})^2\n",
        "\\end{equation*}"
      ]
    },
    {
      "cell_type": "code",
      "metadata": {
        "id": "XIw59zPIXhhA",
        "colab_type": "code",
        "colab": {}
      },
      "source": [
        "def objective_function(y_linear_regression):\n",
        "    error = []\n",
        "    for i in range(m):\n",
        "        error.append((y_linear_regression[i] - h_train[i]) ** 2)\n",
        "    return sum(error) / (2 * m)"
      ],
      "execution_count": 0,
      "outputs": []
    },
    {
      "cell_type": "markdown",
      "metadata": {
        "id": "ZbCglkxbmY4X",
        "colab_type": "text"
      },
      "source": [
        "## 6. **Results**"
      ]
    },
    {
      "cell_type": "markdown",
      "metadata": {
        "id": "sQ14qi0JmcJh",
        "colab_type": "text"
      },
      "source": [
        "### 1. **Plot the estimated parameters using the training dataset**"
      ]
    },
    {
      "cell_type": "markdown",
      "metadata": {
        "id": "T_-YgtVrm-lE",
        "colab_type": "text"
      },
      "source": [
        "Plot the `estimated parameters` $\\{ (\\theta_0, \\theta_1, \\theta_2, \\theta_3) \\}$ at `every iteration` of `gradient descent` until `onvergence` (in `black`, `red`, `green`, `blue` color, respectively).\n",
        "The `optimization` is performed using the `training dataset` (`'data_train.csv'`).\n"
      ]
    },
    {
      "cell_type": "markdown",
      "metadata": {
        "id": "RjIaJi6amsmy",
        "colab_type": "text"
      },
      "source": [
        "### 2. **Plot the training error using the training dataset**"
      ]
    },
    {
      "cell_type": "markdown",
      "metadata": {
        "id": "wI6O3XKPnkHB",
        "colab_type": "text"
      },
      "source": [
        "Plot the `training error` $J(\\theta_0, \\theta_1, \\theta_2, \\theta_3)$ at `every iteration` of `gradient descent` until `convergence` (in `blue` color)."
      ]
    },
    {
      "cell_type": "markdown",
      "metadata": {
        "id": "8W5rNFFAm0UM",
        "colab_type": "text"
      },
      "source": [
        "### 3. **Plot the testing error using the testing dataset at every iteration of gradient descent until convergence**"
      ]
    },
    {
      "cell_type": "markdown",
      "metadata": {
        "id": "l62_JvaSnuuO",
        "colab_type": "text"
      },
      "source": [
        "Plot the `testing error` $J(\\theta_0, \\theta_1, \\theta_2, \\theta_3)$ at `every iteration` of `gradient descent` until `convergence` (in `red` color)."
      ]
    }
  ]
}