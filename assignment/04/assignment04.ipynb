{
  "nbformat": 4,
  "nbformat_minor": 0,
  "metadata": {
    "colab": {
      "name": "assignment04.ipynb",
      "provenance": [],
      "private_outputs": true,
      "collapsed_sections": [],
      "mount_file_id": "1MBxukE1oDM5nVEHOlhD4qbsDtLXqycf4",
      "authorship_tag": "ABX9TyNFTF4LvXcCm3V3oB5jMHW5",
      "include_colab_link": true
    },
    "kernelspec": {
      "name": "python3",
      "display_name": "Python 3"
    }
  },
  "cells": [
    {
      "cell_type": "markdown",
      "metadata": {
        "id": "view-in-github",
        "colab_type": "text"
      },
      "source": [
        "<a href=\"https://colab.research.google.com/github/AllyHyeseongKim/CAU11934_MachineLarning/blob/master/assignment/04/assignment04.ipynb\" target=\"_parent\"><img src=\"https://colab.research.google.com/assets/colab-badge.svg\" alt=\"Open In Colab\"/></a>"
      ]
    },
    {
      "cell_type": "markdown",
      "metadata": {
        "id": "YKyssBeNINGO",
        "colab_type": "text"
      },
      "source": [
        "# Assignment04: Linear regression with multiple variables"
      ]
    },
    {
      "cell_type": "markdown",
      "metadata": {
        "id": "Q1CghtcAIi5A",
        "colab_type": "text"
      },
      "source": [
        "## 1. Load the input data (CSV file)"
      ]
    },
    {
      "cell_type": "markdown",
      "metadata": {
        "id": "TIpyh88uImJ_",
        "colab_type": "text"
      },
      "source": [
        "### Mount the google drive "
      ]
    },
    {
      "cell_type": "code",
      "metadata": {
        "id": "hqtiZAWNmUKc",
        "colab_type": "code",
        "colab": {}
      },
      "source": [
        "from google.colab import drive\n",
        "\n",
        "drive.mount('/content/gdrive')"
      ],
      "execution_count": 0,
      "outputs": []
    },
    {
      "cell_type": "code",
      "metadata": {
        "id": "Mfj9bG3-IqSb",
        "colab_type": "code",
        "colab": {}
      },
      "source": [
        "cd gdrive/My Drive/Colab Notebooks/Machine Learning/assignment04"
      ],
      "execution_count": 0,
      "outputs": []
    },
    {
      "cell_type": "code",
      "metadata": {
        "id": "r-64XTNAIq3G",
        "colab_type": "code",
        "colab": {}
      },
      "source": [
        "ls"
      ],
      "execution_count": 0,
      "outputs": []
    }
  ]
}