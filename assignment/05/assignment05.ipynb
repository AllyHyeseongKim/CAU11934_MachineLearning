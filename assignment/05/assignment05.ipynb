{
  "nbformat": 4,
  "nbformat_minor": 0,
  "metadata": {
    "colab": {
      "name": "assignment05.ipynb",
      "provenance": [],
      "private_outputs": true,
      "collapsed_sections": [],
      "mount_file_id": "1J17l_shxZiTkzFM7K-V5Ww_ENOtj8_db",
      "authorship_tag": "ABX9TyNiMg30aa6Uga3QdDYIuW//",
      "include_colab_link": true
    },
    "kernelspec": {
      "name": "python3",
      "display_name": "Python 3"
    },
    "accelerator": "GPU"
  },
  "cells": [
    {
      "cell_type": "markdown",
      "metadata": {
        "id": "view-in-github",
        "colab_type": "text"
      },
      "source": [
        "<a href=\"https://colab.research.google.com/github/AllyHyeseongKim/CAU11934_MachineLarning/blob/master/assignment/05/assignment05.ipynb\" target=\"_parent\"><img src=\"https://colab.research.google.com/assets/colab-badge.svg\" alt=\"Open In Colab\"/></a>"
      ]
    },
    {
      "cell_type": "markdown",
      "metadata": {
        "id": "8GuLdkxaa4i_",
        "colab_type": "text"
      },
      "source": [
        "# Assignment04: Logistic regression for a binary classification"
      ]
    },
    {
      "cell_type": "markdown",
      "metadata": {
        "id": "S73H4LqObBJt",
        "colab_type": "text"
      },
      "source": [
        "## 1. Load the input data (text file)"
      ]
    },
    {
      "cell_type": "markdown",
      "metadata": {
        "id": "aLerC-j0bS6y",
        "colab_type": "text"
      },
      "source": [
        "### Mount the google drive"
      ]
    },
    {
      "cell_type": "code",
      "metadata": {
        "id": "9jbzi_q78OI-",
        "colab_type": "code",
        "colab": {}
      },
      "source": [
        "from google.colab import drive\n",
        "\n",
        "drive.mount('/content/gdrive')"
      ],
      "execution_count": 0,
      "outputs": []
    },
    {
      "cell_type": "code",
      "metadata": {
        "id": "L2KfvSmXbgyo",
        "colab_type": "code",
        "colab": {}
      },
      "source": [
        "cd gdrive/My Drive/Colab Notebooks/Machine Learning/assignment05"
      ],
      "execution_count": 0,
      "outputs": []
    },
    {
      "cell_type": "code",
      "metadata": {
        "id": "G3l-qonsbhly",
        "colab_type": "code",
        "colab": {}
      },
      "source": [
        "ls"
      ],
      "execution_count": 0,
      "outputs": []
    },
    {
      "cell_type": "markdown",
      "metadata": {
        "id": "QhB0qrLob9vL",
        "colab_type": "text"
      },
      "source": [
        "### Load the Data\n",
        "\n",
        "Load a set of the data $\\{ (x^{(i)}, y^{(i)}, l^{(i)}) \\}$ from the given `text file` (`'data.txt'`) for training. \\\\\n",
        "Each row $\\{ (x^{(i)}, y^{(i)}, l^{(i)}) \\}$ of the data consists of a 2-dimensional point $(x, y)$ with its label $l$, $\\text{where $x, y \\in \\mathbb{R}$ and $l \\in \\mathbb{\\{0, 1\\}}$}$. \\\\\n",
        "Print the set of points $\\{ (x^{(i)}, y^{(i)}) \\}$ that are loaded from `'data_train.csv'` file. \\\\"
      ]
    },
    {
      "cell_type": "code",
      "metadata": {
        "id": "LnORd4lSd0Do",
        "colab_type": "code",
        "colab": {}
      },
      "source": [
        "import numpy as np\n",
        "import matplotlib.pyplot as plt\n",
        "\n",
        "data    = np.genfromtxt(\"data.txt\", delimiter=',')\n",
        "\n",
        "x       = data[:, 0]\n",
        "y       = data[:, 1]\n",
        "label   = data[:, 2]\n",
        "\n",
        "x_label0    = x[label == 0]\n",
        "x_label1    = x[label == 1]\n",
        "\n",
        "y_label0    = y[label == 0]\n",
        "y_label1    = y[label == 1]\n",
        "\n",
        "plt.figure(figsize=(8, 8))\n",
        "plt.scatter(x_label0, y_label0, alpha=0.3, c='b')\n",
        "plt.scatter(x_label1, y_label1, alpha=0.3, c='r')\n",
        "plt.show()\n"
      ],
      "execution_count": 0,
      "outputs": []
    }
  ]
}