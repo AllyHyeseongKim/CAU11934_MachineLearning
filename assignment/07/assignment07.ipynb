{
  "nbformat": 4,
  "nbformat_minor": 0,
  "metadata": {
    "colab": {
      "name": "assignment07.ipynb",
      "provenance": [],
      "private_outputs": true,
      "collapsed_sections": [],
      "authorship_tag": "ABX9TyPr4GhIYoBGHWboNTay0UeF",
      "include_colab_link": true
    },
    "kernelspec": {
      "name": "python3",
      "display_name": "Python 3"
    }
  },
  "cells": [
    {
      "cell_type": "markdown",
      "metadata": {
        "id": "view-in-github",
        "colab_type": "text"
      },
      "source": [
        "<a href=\"https://colab.research.google.com/github/AllyHyeseongKim/CAU11934_MachineLearning/blob/master/assignment/07/assignment07.ipynb\" target=\"_parent\"><img src=\"https://colab.research.google.com/assets/colab-badge.svg\" alt=\"Open In Colab\"/></a>"
      ]
    },
    {
      "cell_type": "markdown",
      "metadata": {
        "id": "tUL5PMpo3xb0",
        "colab_type": "text"
      },
      "source": [
        "# Assignment07: Logistic regression for a binary classification with a regularization"
      ]
    },
    {
      "cell_type": "markdown",
      "metadata": {
        "id": "ALBIU9KR33Y9",
        "colab_type": "text"
      },
      "source": [
        "## 1. Load the input data (text file)"
      ]
    },
    {
      "cell_type": "markdown",
      "metadata": {
        "id": "wid6MPJ735VJ",
        "colab_type": "text"
      },
      "source": [
        "### Mount the google drive"
      ]
    },
    {
      "cell_type": "code",
      "metadata": {
        "id": "JxDJ0-24xu0F",
        "colab_type": "code",
        "colab": {}
      },
      "source": [
        "from google.colab import drive\n",
        "\n",
        "drive.mount('/content/gdrive')"
      ],
      "execution_count": 0,
      "outputs": []
    },
    {
      "cell_type": "code",
      "metadata": {
        "id": "JFxBfptArts-",
        "colab_type": "code",
        "colab": {}
      },
      "source": [
        "cd"
      ],
      "execution_count": 0,
      "outputs": []
    },
    {
      "cell_type": "code",
      "metadata": {
        "id": "q-Cccwg2rv9s",
        "colab_type": "code",
        "colab": {}
      },
      "source": [
        "cd ../content/gdrive/My Drive/Colab Notebooks/Machine Learning/assignment07"
      ],
      "execution_count": 0,
      "outputs": []
    },
    {
      "cell_type": "code",
      "metadata": {
        "id": "IeGW-jTN3_3A",
        "colab_type": "code",
        "colab": {}
      },
      "source": [
        "ls"
      ],
      "execution_count": 0,
      "outputs": []
    },
    {
      "cell_type": "markdown",
      "metadata": {
        "id": "C9WsauyO4IAX",
        "colab_type": "text"
      },
      "source": [
        "### Load the Data\n",
        "\n",
        "Load a set of the data $\\{ (x^{(i)}, y^{(i)}, l^{(i)}) \\}$ from the given `text file` (`'data-nonlinear.txt'`) for training. \\\\\n",
        "Each row $\\{ (x^{(i)}, y^{(i)}, l^{(i)}) \\}$ of the data consists of a 2-dimensional point $(x, y)$ with its label $l$, $\\text{where $x, y \\in \\mathbb{R}$ and $l \\in \\{0, 1\\}$}$. \\\\\n",
        "Plot the set of points $\\{ (x^{(i)}, y^{(i)}) \\}$ that are loaded from `'data-nonlinear.csv'` file. \\\\"
      ]
    },
    {
      "cell_type": "code",
      "metadata": {
        "id": "VadCSLtn4h4a",
        "colab_type": "code",
        "colab": {}
      },
      "source": [
        "import numpy as np\n",
        "import matplotlib.pyplot as plt\n",
        "\n",
        "data    = np.genfromtxt(\"data-nonlinear.txt\", delimiter=',')\n",
        "\n",
        "x_train  = data[:, 0]\n",
        "y_train  = data[:, 1]\n",
        "label   = data[:, 2]\n",
        "\n",
        "m = len(label)\n",
        "\n",
        "pointX0 = x_train[label == 0]\n",
        "pointY0 = y_train[label == 0]\n",
        "\n",
        "pointX1 = x_train[label == 1]\n",
        "pointY1 = y_train[label == 1]\n",
        "\n",
        "plt.figure(figsize=(8, 8))\n",
        "plt.scatter(pointX0, pointY0, c='b')\n",
        "plt.scatter(pointX1, pointY1, c='r')\n",
        "plt.tight_layout()\n",
        "plt.gca().set_aspect('equal', adjustable='box')\n",
        "plt.show()"
      ],
      "execution_count": 0,
      "outputs": []
    },
    {
      "cell_type": "markdown",
      "metadata": {
        "id": "bp5HbqtQ5U9C",
        "colab_type": "text"
      },
      "source": [
        "## 2. Generate the Logistic Regression Model"
      ]
    },
    {
      "cell_type": "markdown",
      "metadata": {
        "id": "xFozuJ3e5Yi_",
        "colab_type": "text"
      },
      "source": [
        "### Generate the `logistic regression`\n",
        "\n",
        "Define the following `logistic regression` with a `high dimensional function feature function`.\n",
        "\n",
        "\\begin{equation*}\n",
        "\\hat{h} = \\sigma(z) \\\\\n",
        "z = g(x, y; \\theta), \\quad\\text{where $g$ is a high dimensional function and $\\theta \\in \\mathbb{R}^{100}$} \\\\\n",
        "\\theta = (\\theta_{0, 0}, \\theta_{0, 1}, ..., \\theta_{9, 9}) \\\\\n",
        "g(x, y; \\theta) = \\sum_{i = 0}^9\\sum_{j = 0}^9\\theta_{i, j}x^iy^j \\\\\n",
        "\\sigma(z) = \\frac{1}{1 + exp(-z)} \\\\\n",
        "\\sigma'(z) = \\sigma(z)(1 - \\sigma(z)) \\\\\n",
        "\\end{equation*}"
      ]
    },
    {
      "cell_type": "markdown",
      "metadata": {
        "id": "_Td7c0f-iHyK",
        "colab_type": "text"
      },
      "source": [
        "Define the `function` $g(x, y; \\theta)$:\n",
        "\\begin{equation}\n",
        "g(x, y; \\theta) = \\sum_{i = 0}^9\\sum_{j = 0}^9\\theta_{i, j}x^iy^j\n",
        "\\end{equation}"
      ]
    },
    {
      "cell_type": "code",
      "metadata": {
        "id": "xnAXhYwBeH2N",
        "colab_type": "code",
        "colab": {}
      },
      "source": [
        "def g(weight):\n",
        "    g = []\n",
        "    for i in range(m):\n",
        "        for j in range(10):\n",
        "            for k in range(10):\n",
        "                g_k = g_k + weight[10 * j + k] * (x_train[i] ** j) * (y_train[i] ** k)\n",
        "        g.append(g_k)\n",
        "    return g"
      ],
      "execution_count": 0,
      "outputs": []
    },
    {
      "cell_type": "markdown",
      "metadata": {
        "id": "JwEIlM7vEbQi",
        "colab_type": "text"
      },
      "source": [
        "Define the following `sigmoid function`.\n",
        "\n",
        "\\begin{equation*}\n",
        "\\hat{h} = \\sigma(z), \\text{ where }\n",
        "\\sigma(z) = \\frac{1}{1 + exp(-z)}, \\\\\n",
        "z = g(x, y; \\theta) = \\sum_{i = 0}^9\\sum_{j = 0}^9\\theta_{i, j}x^iy^j \\\\\n",
        "\\end{equation*}"
      ]
    },
    {
      "cell_type": "code",
      "metadata": {
        "id": "lF_EH1XyYihP",
        "colab_type": "code",
        "colab": {}
      },
      "source": [
        "def logistic_regression(weight):\n",
        "    y_logistic_regression = []\n",
        "    z = g(weight)\n",
        "    for i in range(m):\n",
        "        # print(z[i])\n",
        "        y_logistic_regression.append(1/(1 + np.exp(-z[i])))\n",
        "        # print(y_logistic_regression[i])        \n",
        "    return y_logistic_regression"
      ],
      "execution_count": 0,
      "outputs": []
    },
    {
      "cell_type": "markdown",
      "metadata": {
        "id": "QPA11Brb8dZS",
        "colab_type": "text"
      },
      "source": [
        "## 3. Generate the `Cost Function` with `Gradient Descent` method"
      ]
    },
    {
      "cell_type": "markdown",
      "metadata": {
        "id": "c3eyeKqM8hIF",
        "colab_type": "text"
      },
      "source": [
        "### Generate the `objective function`\n",
        "\n",
        "Define the `degree of regularization` by the `control parameter`, $\\lambda$:\n",
        "\n",
        "\\begin{equation*}\n",
        "\\lambda_1 = 100, \\text{  for over-fitting} \\\\\n",
        "\\lambda_2 = 10, \\text{  for just-right} \\\\\n",
        "\\lambda_3 = 0, \\text{  for under-fitting}\n",
        "\\end{equation*}"
      ]
    },
    {
      "cell_type": "code",
      "metadata": {
        "id": "ITLkuya6lvOg",
        "colab_type": "code",
        "colab": {}
      },
      "source": [
        "lambda1 = 100\n",
        "lambda2 = 10\n",
        "lambda3 = 0"
      ],
      "execution_count": 0,
      "outputs": []
    },
    {
      "cell_type": "markdown",
      "metadata": {
        "id": "2i8FKsXxlZSF",
        "colab_type": "text"
      },
      "source": [
        "Define the following `objective function` with a `regularization term`.\n",
        "\n",
        "\\begin{equation*}\n",
        "J(\\theta) = \\frac{1}{m}\\sum_{i = 1}^m[-l^{(i)}log(\\sigma(g(x^{(i)}, y^{(i)}; \\theta))) - (1 - l^{(i)})log(1 - \\sigma(g(x^{(i)}, y^{(i)}; \\theta)))] + \\frac{\\lambda}{2}\\sum_{i = 0}^9\\sum_{j = 0}^9\\theta_{i, j}^2\n",
        "\\end{equation*}"
      ]
    },
    {
      "cell_type": "code",
      "metadata": {
        "id": "ZLaUUmEpBWC7",
        "colab_type": "code",
        "colab": {}
      },
      "source": [
        "def objective_function(lambda_value, weight, y_logistic_regression):\n",
        "    error = []\n",
        "    regularization = 0\n",
        "    for i in range(10):\n",
        "        for j in range(10):\n",
        "            regularization = regularization + (weight[10 * i + j] ** 2)\n",
        "    regularization = lambda_value / 2 * regularization\n",
        "    for k in range(m):\n",
        "        error.append((-label[k]) * np.log(y_logistic_regression[k]) - (1 - label[k]) * np.log(1 - y_logistic_regression[k]))\n",
        "    return sum(error) / m + regularization"
      ],
      "execution_count": 0,
      "outputs": []
    },
    {
      "cell_type": "markdown",
      "metadata": {
        "id": "bwYNY2pI9XSL",
        "colab_type": "text"
      },
      "source": [
        "### Generate the `gradient descent`"
      ]
    },
    {
      "cell_type": "markdown",
      "metadata": {
        "id": "LvHAlub1_KUH",
        "colab_type": "text"
      },
      "source": [
        "Define the `learning rate`.\n",
        "\n",
        "\\begin{equation*}\n",
        "\\alpha  = 0.0009\n",
        "\\end{equation*}"
      ]
    },
    {
      "cell_type": "code",
      "metadata": {
        "id": "smtm_inGFG1M",
        "colab_type": "code",
        "colab": {}
      },
      "source": [
        "learning_rate = 0.0009"
      ],
      "execution_count": 0,
      "outputs": []
    },
    {
      "cell_type": "markdown",
      "metadata": {
        "id": "Ky1NhF8Z9aym",
        "colab_type": "text"
      },
      "source": [
        "Define the following `gradient descent`.\n",
        "\n",
        "\\begin{equation*}\n",
        "\\theta_{i,j}^{(t+1)} := \\theta_{i,j}^{(t)} - \\alpha[\\frac{1}{m}\\sum_{i = 1}^m(\\sigma(g(x^{(i)}, y^{(i)}; \\theta^{(t)})) - l^{(i)})\\frac{\\partial g(x^{(i)}, y^{(i)}; \\theta^{(t)})}{\\partial \\theta_{i,j}} + \\lambda\\theta_{i,j}^{(t)}], \\quad\\text{for all $i, j$}, \\\\\n",
        "\\text{where,}\\quad\\frac{\\partial g(x^{(i)}, y^{(i)}; \\theta^{(t)})}{\\partial \\theta_{i,j}} = \\frac{\\partial\\sum_{i = 0}^9\\sum_{j = 0}^9\\theta_{i, j}x^iy^j}{\\partial \\theta_{i,j}} = \\frac{\\partial \\theta_{0,0}x^0y^0}{\\partial \\theta_{i,j}} + \\frac{\\partial \\theta_{0,1}x^0y^1}{\\partial \\theta_{i,j}} + ... + \\frac{\\partial \\theta_{9,9}x^9y^9}{\\partial \\theta_{i,j}}\n",
        "\\end{equation*}"
      ]
    },
    {
      "cell_type": "code",
      "metadata": {
        "id": "2B5bXSBNFK0M",
        "colab_type": "code",
        "colab": {}
      },
      "source": [
        "def gradient_descent(lambda_value, weight, y_logistic_regression):\n",
        "    weight_error = []\n",
        "    for i in range(m):\n",
        "        weight_error.append([])\n",
        "    weightPrime = []\n",
        "    for i in range(10):\n",
        "        for j in range(10):\n",
        "            for k in range(m):\n",
        "                weight_error[10 * i + j].append((y_logistic_regression[k] - label[k]) * (x_train[k] ** i) * (y_train[k] ** j))\n",
        "    for i in range(10):\n",
        "        for j in range(10):\n",
        "            weightPrime.append(weight[10 * i + j] - learning_rate * (sum(weight_error[10 * i + j]) / m + lambda_value * weight[10 * i + j]))\n",
        "    return weightPrime"
      ],
      "execution_count": 0,
      "outputs": []
    },
    {
      "cell_type": "markdown",
      "metadata": {
        "id": "zTQ5fNon_luS",
        "colab_type": "text"
      },
      "source": [
        "## 4. `Train` the input data"
      ]
    },
    {
      "cell_type": "markdown",
      "metadata": {
        "id": "VmCtCARLAJiS",
        "colab_type": "text"
      },
      "source": [
        "Define the initial `weight` and `offset`$(\\theta_{0,0}^{(0)}, \\theta_{0,1}^{(0)}, \\theta_{0,2}^{(0)}, ..., \\theta_{9,9}^{(0)})$:\n",
        "\n",
        "\\begin{equation*}\n",
        "\\theta_{0,0}^{(0)} = \\theta_{0,1}^{(0)} = \\theta_{0,2}^{(0)} = ... = \\theta_{9,9}^{(0)} = 0\n",
        "\\end{equation*}"
      ]
    },
    {
      "cell_type": "code",
      "metadata": {
        "id": "jdrJq6v6Fyg5",
        "colab_type": "code",
        "colab": {}
      },
      "source": [
        "weight = []\n",
        "weight.append([])\n",
        "for i in range(100):\n",
        "    weight[0].append(0)"
      ],
      "execution_count": 0,
      "outputs": []
    },
    {
      "cell_type": "code",
      "metadata": {
        "id": "Le6QhgTxG5Ur",
        "colab_type": "code",
        "colab": {}
      },
      "source": [
        "cost_convergence = []\n",
        "theta_convergence = []"
      ],
      "execution_count": 0,
      "outputs": []
    },
    {
      "cell_type": "markdown",
      "metadata": {
        "id": "bKT5lGy2A5V8",
        "colab_type": "text"
      },
      "source": [
        "`Train` the `input data` with the `logistic regression` function above with the `gradient descent`. \\\\\n",
        "Find optimal parameters $\\theta$ using the `traing data`."
      ]
    },
    {
      "cell_type": "code",
      "metadata": {
        "id": "jqg-AemPG92m",
        "colab_type": "code",
        "colab": {}
      },
      "source": [
        "epoch = m * 200\n",
        "sigma = []\n",
        "cost = []\n",
        "i = 0\n",
        "# print(logistic_regression(weight[i], offset[i]))\n",
        "# print(objective_function(logistic_regression(weight[i], offset[i])))\n",
        "sigma.append(logistic_regression(weight[i], offset[i]))\n",
        "cost.append(objective_function(logistic_regression(weight[i], offset[i])))\n",
        "# print(j)\n",
        "\n",
        "while i < epoch:\n",
        "    i = i + 1\n",
        "\n",
        "#    print(k)\n",
        "\n",
        "    weight.append(gradient_descent(weight[i - 1], offset[i - 1], sigma[i - 1])[0])\n",
        "    offset.append(gradient_descent(weight[i - 1], offset[i - 1], sigma[i - 1])[1])\n",
        "\n",
        "#    print('weight: ', weight)\n",
        "#    print('offset: ', offset)\n",
        "\n",
        "    sigma.append(logistic_regression(weight[i], offset[i]))\n",
        "#    print('sigma: ', sigma)\n",
        "#    print(offset[k])\n",
        "#    print(round(j[k - 1], 2))\n",
        "    cost.append(objective_function(logistic_regression(weight[i], offset[i])))\n",
        "#    print('j: ', j)\n",
        "    if cost[i] == cost[i - 1]:\n",
        "        cost_convergence.append(i)\n",
        "        if offset[i] == offset[i - 1]:\n",
        "            for j in range(15):\n",
        "                if weight[i][j] == weight[i - 1][j]:\n",
        "                    theta_convergence.append(i)\n",
        "\n",
        "theta_convergence.append(epoch)\n",
        "cost_convergence.append(epoch)\n",
        "\n",
        "# print(theta_convergence)\n",
        "# print(cost_convergence)\n",
        "# print('sigma: ', sigma)\n",
        "# print('j: ', j)\n",
        "# print('weight: ', weight)\n",
        "# print('offset: ', offset)"
      ],
      "execution_count": 0,
      "outputs": []
    },
    {
      "cell_type": "markdown",
      "metadata": {
        "id": "mB3-M51hBWvL",
        "colab_type": "text"
      },
      "source": [
        "## 5. Compute the `training accuracy`"
      ]
    },
    {
      "cell_type": "markdown",
      "metadata": {
        "id": "DDCv6bcBBg7T",
        "colab_type": "text"
      },
      "source": [
        "Compute the `final training accuracy` in `number (%)` with varying values of the `regularization parameter` $\\lambda$.\n",
        "\\begin{equation}\n",
        "accuracy\\ (\\%) = \\frac{\\text{number of correct predictions}}{\\text{total number of predictions}} \\times 100\n",
        "\\end{equation}"
      ]
    },
    {
      "cell_type": "code",
      "metadata": {
        "id": "Vd9xOkHaMjLB",
        "colab_type": "code",
        "colab": {}
      },
      "source": [
        "index_minimum = cost.index(min(cost))"
      ],
      "execution_count": 0,
      "outputs": []
    },
    {
      "cell_type": "code",
      "metadata": {
        "id": "Wz3jJn8j11A7",
        "colab_type": "code",
        "colab": {}
      },
      "source": [
        "accuracy = []\n",
        "i = 0\n",
        "for i in range(epoch):\n",
        "    correct_predictions = 0\n",
        "    for j in range(m):\n",
        "        if round(sigma[i][j], 2) == 0.5:\n",
        "            correct_predictions = correct_predictions + 1\n",
        "        else:\n",
        "            if sigma[i][j] > 0.5:\n",
        "                if label[j] == 0:\n",
        "                    correct_predictions = correct_predictions + 1\n",
        "            else:\n",
        "                if label[j] == 1:\n",
        "                    correct_predictions = correct_predictions + 1\n",
        "    accuracy.append((correct_predictions / m) * 100)\n",
        "# print(index_minimum)\n",
        "index_accuracy_maximum = accuracy.index(max(accuracy))\n",
        "# print(index_accuracy_maximum)\n",
        "# print(accuracy[index_accuracy_maximum])\n",
        "# print(accuracy[index_minimum-1])"
      ],
      "execution_count": 0,
      "outputs": []
    },
    {
      "cell_type": "code",
      "metadata": {
        "id": "-QnL_hZ6xUrd",
        "colab_type": "code",
        "colab": {}
      },
      "source": [
        "# print(sigma[0])\n",
        "# print(sigma[1])\n",
        "# print(sigma[2])\n",
        "# print(sigma[index_minimum-1])\n",
        "# print(label)"
      ],
      "execution_count": 0,
      "outputs": []
    },
    {
      "cell_type": "code",
      "metadata": {
        "id": "jnS8zk_SxOWb",
        "colab_type": "code",
        "colab": {}
      },
      "source": [
        "# print(accuracy)"
      ],
      "execution_count": 0,
      "outputs": []
    },
    {
      "cell_type": "markdown",
      "metadata": {
        "id": "gsekNLQJCU4T",
        "colab_type": "text"
      },
      "source": [
        "## 6. Visualize the `Classifier`"
      ]
    },
    {
      "cell_type": "markdown",
      "metadata": {
        "id": "_c79LIbaCaCL",
        "colab_type": "text"
      },
      "source": [
        "Generate the `Classifier`."
      ]
    },
    {
      "cell_type": "code",
      "metadata": {
        "id": "mLytO3ktSs0X",
        "colab_type": "code",
        "colab": {}
      },
      "source": [
        "# print(offset[index_minimum])\n",
        "# print(weight[index_minimum])"
      ],
      "execution_count": 0,
      "outputs": []
    },
    {
      "cell_type": "code",
      "metadata": {
        "id": "cMOGxLLFDK1v",
        "colab_type": "code",
        "colab": {}
      },
      "source": [
        "def classifier(x, y):\n",
        "    val_k = f_k(x, y)\n",
        "    optimal_g = offset[index_accuracy_maximum] * val_k[0]\n",
        "    for i in range(k-1):\n",
        "        optimal_g = optimal_g + weight[index_accuracy_maximum][i] * val_k[i + 1]\n",
        "    return 1 / (1 + np.exp(-optimal_g))"
      ],
      "execution_count": 0,
      "outputs": []
    },
    {
      "cell_type": "markdown",
      "metadata": {
        "id": "CxoFNYszCdwj",
        "colab_type": "text"
      },
      "source": [
        "Visualize the obtained `classifier`, where the `boundary` of the `classifier` is defined by $\\{(x, y) | \\sigma(g(x, y ; \\theta)) = 0.5\\} = \\{(x, y) | g(x, y ; \\theta) = 0\\}$."
      ]
    },
    {
      "cell_type": "code",
      "metadata": {
        "id": "ClQs5nLNvKbu",
        "colab_type": "code",
        "colab": {}
      },
      "source": [
        "plt.figure(figsize=(8, 8))\n",
        "x = np.arange(-1, 1.25, 0.01)\n",
        "y = np.arange(-1, 1.25, 0.01)\n",
        "X, Y = np.meshgrid(x, y)\n",
        "z = classifier(X, Y)\n",
        "\n",
        "CS = plt.contour(X, Y, z, [1/2], colors='green')\n",
        "CS.clabel()\n",
        "plt.scatter(pointX0, pointY0, c='b')\n",
        "plt.scatter(pointX1, pointY1, c='r')\n",
        "plt.show()"
      ],
      "execution_count": 0,
      "outputs": []
    },
    {
      "cell_type": "markdown",
      "metadata": {
        "id": "J7KprHVQDhY3",
        "colab_type": "text"
      },
      "source": [
        "## 7. **Results**"
      ]
    },
    {
      "cell_type": "markdown",
      "metadata": {
        "id": "yqRkLfC5Dlpq",
        "colab_type": "text"
      },
      "source": [
        "### 1. **Plot the training data**"
      ]
    },
    {
      "cell_type": "markdown",
      "metadata": {
        "id": "F4ysZpDTDojS",
        "colab_type": "text"
      },
      "source": [
        "Plot the `training data points` $(x, y)$ with their `labels` $l$ (in `blue` color for `label 0` and `red` color for `label 1`)."
      ]
    },
    {
      "cell_type": "code",
      "metadata": {
        "id": "pyyRWqECQaxN",
        "colab_type": "code",
        "colab": {}
      },
      "source": [
        "plt.figure(figsize=(8, 8))\n",
        "plt.scatter(pointX0, pointY0, c='b')\n",
        "plt.scatter(pointX1, pointY1, c='r')\n",
        "plt.tight_layout()\n",
        "plt.gca().set_aspect('equal', adjustable='box')\n",
        "plt.show()"
      ],
      "execution_count": 0,
      "outputs": []
    },
    {
      "cell_type": "markdown",
      "metadata": {
        "id": "WMDeilIRDuS2",
        "colab_type": "text"
      },
      "source": [
        "### 2. **Plot the training error with varying regularization parameters**"
      ]
    },
    {
      "cell_type": "markdown",
      "metadata": {
        "id": "TuqmpAX-w96y",
        "colab_type": "text"
      },
      "source": [
        "Choose a value for $\\lambda_1$​ in such a way that `over-fitting` is demonstrated and plot the `training error` $J(\\theta)$ at `every iteration` of `gradient descent` until `convergence` (in `red` color). \\\\\n",
        "Choose a value for $\\lambda_2$ in such a way that `just-right` is demonstrated and plot the `training error` $J(\\theta)$ at `every iteration` of `gradient descent` until `convergence` (in `green` color). \\\\\n",
        "Choose a value for $\\lambda_3$ in such a way that `under-fitting` is demonstrated and plot the `training error` $J(\\theta)$ at `every iteration` of `gradient descent` until `convergence` (in `blue` color). \\\\\n",
        "The above three curves should be presented `all together in a single figure`."
      ]
    },
    {
      "cell_type": "code",
      "metadata": {
        "id": "3EpsSm9ow880",
        "colab_type": "code",
        "colab": {}
      },
      "source": [
        ""
      ],
      "execution_count": 0,
      "outputs": []
    },
    {
      "cell_type": "markdown",
      "metadata": {
        "id": "2OaWzfYVEHU8",
        "colab_type": "text"
      },
      "source": [
        "### 3. **Display the values of the chosen regularization parameters**"
      ]
    },
    {
      "cell_type": "markdown",
      "metadata": {
        "id": "GiXK5YZWEOa_",
        "colab_type": "text"
      },
      "source": [
        "Display the value of the chosen $\\lambda_1$​ for the demonstration of `over-fitting` (in `red` color). \\\\\n",
        "Display the value of the chosen $\\lambda_2$​ for the demonstration of `just-right` (in `green` color). \\\\\n",
        "Display the value of the chosen $\\lambda_3$​ for the demonstration of `under-fitting` (in `blue` color)."
      ]
    },
    {
      "cell_type": "code",
      "metadata": {
        "id": "tkLIl-_u6j5z",
        "colab_type": "code",
        "colab": {}
      },
      "source": [
        "plt.figure(figsize=(8, 8))\n",
        "x_out = np.arange(0, cost_convergence[0])\n",
        "plt.xlabel('t (iteration)')\n",
        "\n",
        "plt.plot(x_out, cost[:cost_convergence[0]], color = 'blue')\n",
        "\n",
        "plt.show()"
      ],
      "execution_count": 0,
      "outputs": []
    },
    {
      "cell_type": "markdown",
      "metadata": {
        "id": "E-uLMcy8EWVF",
        "colab_type": "text"
      },
      "source": [
        "### 4. **Plot the training accuracy with varying regularization parameters**"
      ]
    },
    {
      "cell_type": "markdown",
      "metadata": {
        "id": "RLHkTd5HEckz",
        "colab_type": "text"
      },
      "source": [
        "Plot the `training accuracy` with the chosen $\\lambda_1$​ for `over-fitting` at `every iteration` of `gradient descent` until `convergence` (in `red` color). \\\\\n",
        "Plot the `training accuracy` with the chosen $\\lambda_2$ for `just-right` at `every iteration` of `gradient descent` until `convergence` (in `green` color). \\\\\n",
        "Plot the `training accuracy` with the chosen $\\lambda_3$​ for `under-fitting` at `every iteration` of `gradient descent` until `convergence` (in `blue` color). \\\\\n",
        "The above three curves should be presented `all together in a single figure`."
      ]
    },
    {
      "cell_type": "code",
      "metadata": {
        "id": "KiSDFYg1UCS_",
        "colab_type": "code",
        "colab": {}
      },
      "source": [
        "plt.figure(figsize=(8, 8))\n",
        "x_out = np.arange(0, index_accuracy_maximum + 20)\n",
        "plt.xlabel('t (iteration)')\n",
        "\n",
        "plt.plot(x_out, accuracy[:index_accuracy_maximum + 20], color = 'red')\n",
        "\n",
        "plt.show()"
      ],
      "execution_count": 0,
      "outputs": []
    },
    {
      "cell_type": "markdown",
      "metadata": {
        "id": "yxLX3paVEm_j",
        "colab_type": "text"
      },
      "source": [
        "### 5. **Display the final training accuracy with varying regularization parameters**"
      ]
    },
    {
      "cell_type": "markdown",
      "metadata": {
        "id": "8jU5_K-YEtaA",
        "colab_type": "text"
      },
      "source": [
        "Display the `final training accuracy` obtained with the chosen $\\lambda_1$​ for `over-fitting` in number (%) at `convergence` (in `red` color). \\\\\n",
        "Display the `final training accuracy` obtained with the chosen $\\lambda_2$​ for `just-right` in number (%) at `convergence` (in `green` color). \\\\\n",
        "Display the `final training accuracy` obtained with the chosen $\\lambda_3$​ for `under-fitting` in number (%) at `convergence` (in `blue` color)."
      ]
    },
    {
      "cell_type": "code",
      "metadata": {
        "id": "6AIIPc0VUoiP",
        "colab_type": "code",
        "colab": {}
      },
      "source": [
        "print(accuracy[index_accuracy_maximum], '(%)')"
      ],
      "execution_count": 0,
      "outputs": []
    },
    {
      "cell_type": "markdown",
      "metadata": {
        "id": "Tk7-PiBME2kR",
        "colab_type": "text"
      },
      "source": [
        "### 6. **Plot the optimal classifier with varying regularization parameters superimposed on the training data**"
      ]
    },
    {
      "cell_type": "markdown",
      "metadata": {
        "id": "U9Ipv7ojE-g8",
        "colab_type": "text"
      },
      "source": [
        "Plot the boundary of the `optimal classifier` with the chosen $\\lambda_1$​ for `over-fitting` at `convergence` (in `red` color). \\\\\n",
        "Plot the boundary of the `optimal classifier` with the chosen $\\lambda_2$​ for `just-right` at `convergence` (in `green` color). \\\\\n",
        "Plot the boundary of the `optimal classifier` with the chosen $\\lambda_3$​ for `under-fitting` at `convergence` (in `blue` color). \\\\\n",
        "The `boundary` of the `classifier` is defined by $\\{ (x, y) \\mid \\sigma(g(x, y ; \\theta)) = 0.5 \\} = \\{ (x, y) \\mid g(x, y ; \\theta) = 0 \\}$. \\\\\n",
        "The `boundaries` of the `classifiers` with `different regularization parameters` should be presented with the `training data points` $(x, y)$ with their `labels` $l$ (in `blue` color for label 0 and `red` color for label 1). \\\\\n",
        "You can use `contour` function in python3."
      ]
    },
    {
      "cell_type": "code",
      "metadata": {
        "id": "ZRVtoo8wVVcI",
        "colab_type": "code",
        "colab": {}
      },
      "source": [
        "plt.figure(figsize=(8, 8))\n",
        "x = np.arange(-1, 1.25, 0.01)\n",
        "y = np.arange(-1, 1.25, 0.01)\n",
        "X, Y = np.meshgrid(x, y)\n",
        "z = classifier(X, Y)\n",
        "\n",
        "CS = plt.contour(X, Y, z, [1/2], colors='green')\n",
        "plt.scatter(pointX0, pointY0, c='b')\n",
        "plt.scatter(pointX1, pointY1, c='r')\n",
        "plt.show()"
      ],
      "execution_count": 0,
      "outputs": []
    }
  ]
}