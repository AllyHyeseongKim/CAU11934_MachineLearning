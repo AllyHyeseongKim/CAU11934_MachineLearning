{
  "nbformat": 4,
  "nbformat_minor": 0,
  "metadata": {
    "colab": {
      "name": "assignment08.ipynb",
      "provenance": [],
      "private_outputs": true,
      "collapsed_sections": [],
      "authorship_tag": "ABX9TyPB6aIXPXrKcco8nsWsAbs6",
      "include_colab_link": true
    },
    "kernelspec": {
      "name": "python3",
      "display_name": "Python 3"
    }
  },
  "cells": [
    {
      "cell_type": "markdown",
      "metadata": {
        "id": "view-in-github",
        "colab_type": "text"
      },
      "source": [
        "<a href=\"https://colab.research.google.com/github/AllyHyeseongKim/CAU11934_MachineLearning/blob/master/assignment/08/assignment08.ipynb\" target=\"_parent\"><img src=\"https://colab.research.google.com/assets/colab-badge.svg\" alt=\"Open In Colab\"/></a>"
      ]
    },
    {
      "cell_type": "markdown",
      "metadata": {
        "id": "tUL5PMpo3xb0",
        "colab_type": "text"
      },
      "source": [
        "# Assignment08: Forward Propagation in the Neural Networks"
      ]
    },
    {
      "cell_type": "markdown",
      "metadata": {
        "id": "ALBIU9KR33Y9",
        "colab_type": "text"
      },
      "source": [
        "## 1. Load the input data (text file)"
      ]
    },
    {
      "cell_type": "markdown",
      "metadata": {
        "id": "wid6MPJ735VJ",
        "colab_type": "text"
      },
      "source": [
        "### Mount the google drive"
      ]
    },
    {
      "cell_type": "code",
      "metadata": {
        "id": "JxDJ0-24xu0F",
        "colab_type": "code",
        "colab": {}
      },
      "source": [
        "from google.colab import drive\n",
        "\n",
        "drive.mount('/content/gdrive')"
      ],
      "execution_count": 0,
      "outputs": []
    },
    {
      "cell_type": "code",
      "metadata": {
        "id": "JFxBfptArts-",
        "colab_type": "code",
        "colab": {}
      },
      "source": [
        "cd"
      ],
      "execution_count": 0,
      "outputs": []
    },
    {
      "cell_type": "code",
      "metadata": {
        "id": "q-Cccwg2rv9s",
        "colab_type": "code",
        "colab": {}
      },
      "source": [
        "cd ../content/gdrive/My Drive/Colab Notebooks/Machine Learning/assignment08"
      ],
      "execution_count": 0,
      "outputs": []
    },
    {
      "cell_type": "code",
      "metadata": {
        "id": "IeGW-jTN3_3A",
        "colab_type": "code",
        "colab": {}
      },
      "source": [
        "ls"
      ],
      "execution_count": 0,
      "outputs": []
    },
    {
      "cell_type": "markdown",
      "metadata": {
        "id": "C9WsauyO4IAX",
        "colab_type": "text"
      },
      "source": [
        "### Load the Data\n",
        "\n",
        "Load a set of the data from the given `csv file` (`'mnist_test.txt'`) for training. \\\\\n",
        "Each row of the data consists of the `label` and the `image pixel values` in a `vector form`, where the `label` is one of the 10 digits from 0 to 9 and the `image` represents one of the 10 digits from 0 to 9 in grey scale and its size is 28x28. \\\\\n",
        "Plot the `images` that are loaded from `'mnist_test.csv'` file. \\\\"
      ]
    },
    {
      "cell_type": "code",
      "metadata": {
        "id": "VadCSLtn4h4a",
        "colab_type": "code",
        "colab": {}
      },
      "source": [
        "import matplotlib.pyplot as plt\n",
        "import numpy as np\n",
        "\n",
        "file_data   = \"mnist_test.csv\"\n",
        "handle_file = open(file_data, \"r\")\n",
        "data        = handle_file.readlines()\n",
        "handle_file.close()\n",
        "\n",
        "size_row    = 28    # height of the image\n",
        "size_col    = 28    # width of the image\n",
        "\n",
        "num_image   = len(data)\n",
        "count       = 0     # count for the number of images\n",
        "count_0       = 0\n",
        "count_1       = 0\n",
        "count_2       = 0\n",
        "count_3       = 0\n",
        "count_4       = 0\n",
        "count_5       = 0\n",
        "count_6       = 0\n",
        "count_7       = 0\n",
        "count_8       = 0\n",
        "count_9       = 0\n",
        "#\n",
        "# make a matrix each column of which represents an images in a vector form \n",
        "#\n",
        "list_image  = np.empty((size_row * size_col, num_image), dtype=np.float128)\n",
        "list_label  = np.empty(num_image, dtype=int)\n",
        "\n",
        "for line in data:\n",
        "\n",
        "    line_data   = line.split(',')\n",
        "    label       = line_data[0]\n",
        "    im_vector   = np.asfarray(line_data[1:])\n",
        "\n",
        "    list_label[count]       = label\n",
        "    list_image[:, count]    = im_vector    \n",
        "\n",
        "    count += 1\n",
        "\n",
        "    if label == '0':\n",
        "        count_0 += 1\n",
        "    elif label == '1':\n",
        "        count_1 += 1\n",
        "    elif label == '2':\n",
        "        count_2 += 1\n",
        "    elif label == '3':\n",
        "        count_3 += 1\n",
        "    elif label == '4':\n",
        "        count_4 += 1\n",
        "    elif label == '5':\n",
        "        count_5 += 1\n",
        "    elif label == '6':\n",
        "        count_6 += 1\n",
        "    elif label == '7':\n",
        "        count_7 += 1\n",
        "    elif label == '8':\n",
        "        count_8 += 1\n",
        "    elif label == '9':\n",
        "        count_9 += 1\n",
        "\n",
        "# \n",
        "# plot first 100 images out of 10,000 with their labels\n",
        "# \n",
        "f1 = plt.figure(figsize=(8, 8))\n",
        "\n",
        "for i in range(100):\n",
        "\n",
        "    label       = list_label[i]\n",
        "    im_vector   = list_image[:, i]\n",
        "    im_matrix   = im_vector.reshape((size_row, size_col))\n",
        "\n",
        "    plt.subplot(10, 10, i+1)\n",
        "    plt.title(label)\n",
        "    plt.imshow(im_matrix, cmap='Greys', interpolation='None')\n",
        "\n",
        "    frame   = plt.gca()\n",
        "    frame.axes.get_xaxis().set_visible(False)\n",
        "    frame.axes.get_yaxis().set_visible(False)\n",
        "\n",
        "plt.show()\n"
      ],
      "execution_count": 0,
      "outputs": []
    },
    {
      "cell_type": "markdown",
      "metadata": {
        "id": "vhuiVZRKjAZD",
        "colab_type": "text"
      },
      "source": [
        "### Calculate the Average Image for Each Digit"
      ]
    },
    {
      "cell_type": "markdown",
      "metadata": {
        "id": "v9bnnCh2jOxX",
        "colab_type": "text"
      },
      "source": [
        "Take the `arithmatic average` of the `image data` with the `same label` for `each digit`."
      ]
    },
    {
      "cell_type": "code",
      "metadata": {
        "id": "bzCmfox9-wPQ",
        "colab_type": "code",
        "colab": {}
      },
      "source": [
        "list_image_0  = np.empty((size_row * size_col, count_0), dtype=np.float128)\n",
        "list_image_1  = np.empty((size_row * size_col, count_1), dtype=np.float128)\n",
        "list_image_2  = np.empty((size_row * size_col, count_2), dtype=np.float128)\n",
        "list_image_3  = np.empty((size_row * size_col, count_3), dtype=np.float128)\n",
        "list_image_4  = np.empty((size_row * size_col, count_4), dtype=np.float128)\n",
        "list_image_5  = np.empty((size_row * size_col, count_5), dtype=np.float128)\n",
        "list_image_6  = np.empty((size_row * size_col, count_6), dtype=np.float128)\n",
        "list_image_7  = np.empty((size_row * size_col, count_7), dtype=np.float128)\n",
        "list_image_8  = np.empty((size_row * size_col, count_8), dtype=np.float128)\n",
        "list_image_9  = np.empty((size_row * size_col, count_9), dtype=np.float128)\n",
        "\n",
        "count_0 = 0\n",
        "count_1 = 0\n",
        "count_2 = 0\n",
        "count_3 = 0\n",
        "count_4 = 0\n",
        "count_5 = 0\n",
        "count_6 = 0\n",
        "count_7 = 0\n",
        "count_8 = 0\n",
        "count_9 = 0\n",
        "\n",
        "for i in range(num_image):\n",
        "    if list_label[i] == 0:\n",
        "        list_image_0[:, count_0] = list_image[:, i]\n",
        "        count_0 += 1\n",
        "    elif list_label[i] == 1:\n",
        "        list_image_1[:, count_1] = list_image[:, i]\n",
        "        count_1 += 1\n",
        "    elif list_label[i] == 2:\n",
        "        list_image_2[:, count_2] = list_image[:, i]\n",
        "        count_2 += 1\n",
        "    elif list_label[i] == 3:\n",
        "        list_image_3[:, count_3] = list_image[:, i]\n",
        "        count_3 += 1\n",
        "    elif list_label[i] == 4:\n",
        "        list_image_4[:, count_4] = list_image[:, i]\n",
        "        count_4 += 1\n",
        "    elif list_label[i] == 5:\n",
        "        list_image_5[:, count_5] = list_image[:, i]\n",
        "        count_5 += 1\n",
        "    elif list_label[i] == 6:\n",
        "        list_image_6[:, count_6] = list_image[:, i]\n",
        "        count_6 += 1\n",
        "    elif list_label[i] == 7:\n",
        "        list_image_7[:, count_7] = list_image[:, i]\n",
        "        count_7 += 1\n",
        "    elif list_label[i] == 8:\n",
        "        list_image_8[:, count_8] = list_image[:, i]\n",
        "        count_8 += 1\n",
        "    elif list_label[i] == 9:\n",
        "        list_image_9[:, count_9] = list_image[:, i]\n",
        "        count_9 += 1"
      ],
      "execution_count": 0,
      "outputs": []
    },
    {
      "cell_type": "code",
      "metadata": {
        "id": "-CQrkmSQPYbA",
        "colab_type": "code",
        "colab": {}
      },
      "source": [
        "def plotMean(list_image, i):\n",
        "    label       = i\n",
        "    im_vector   = list_image.mean(axis=1)\n",
        "    im_matrix   = im_vector.reshape((size_row, size_col))\n",
        "    \n",
        "    plt.subplot(2, 5, i+1)\n",
        "    plt.title(label)\n",
        "    plt.imshow(im_matrix, cmap='Greys', interpolation='None')\n",
        "\n",
        "    frame   = plt.gca()\n",
        "    frame.axes.get_xaxis().set_visible(False)\n",
        "    frame.axes.get_yaxis().set_visible(False)"
      ],
      "execution_count": 0,
      "outputs": []
    },
    {
      "cell_type": "markdown",
      "metadata": {
        "id": "VHwYLCtUTgCo",
        "colab_type": "text"
      },
      "source": [
        "Plot the `average image` of the `data`."
      ]
    },
    {
      "cell_type": "code",
      "metadata": {
        "id": "DFobJVJdN8uw",
        "colab_type": "code",
        "colab": {}
      },
      "source": [
        "f1 = plt.figure(figsize=(8, 4))\n",
        "\n",
        "plotMean(list_image_0, 0)\n",
        "plotMean(list_image_1, 1)\n",
        "plotMean(list_image_2, 2)\n",
        "plotMean(list_image_3, 3)\n",
        "plotMean(list_image_4, 4)\n",
        "plotMean(list_image_5, 5)\n",
        "plotMean(list_image_6, 6)\n",
        "plotMean(list_image_7, 7)\n",
        "plotMean(list_image_8, 8)\n",
        "plotMean(list_image_9, 9)\n",
        "\n",
        "plt.show()"
      ],
      "execution_count": 0,
      "outputs": []
    },
    {
      "cell_type": "markdown",
      "metadata": {
        "id": "U2dqXYEPjHFr",
        "colab_type": "text"
      },
      "source": [
        "## 2. Forward Propagation with Random Weights"
      ]
    },
    {
      "cell_type": "markdown",
      "metadata": {
        "id": "TjN8pxYcjVMf",
        "colab_type": "text"
      },
      "source": [
        "Consider a `neural network` with a `fully connected layer` using a `logistic unit`. \\\\\n",
        "The `weights` of the `fully connected layer` are given by `random numbers` sampled from the `Normal distribution` $\\mathcal{N}(0, 1)$ with `mean` 0 and `standard deviation` 1. \\\\\n",
        "Compute the `average` of the `output` of the `neural network` using a `logistic unit` for the `images` of the `same label` for `each digit`."
      ]
    },
    {
      "cell_type": "markdown",
      "metadata": {
        "id": "bp5HbqtQ5U9C",
        "colab_type": "text"
      },
      "source": [
        "### 2.1. Generate the Logistic Regression Model"
      ]
    },
    {
      "cell_type": "markdown",
      "metadata": {
        "id": "xFozuJ3e5Yi_",
        "colab_type": "text"
      },
      "source": [
        "#### Generate the `logistic regression`\n",
        "\n",
        "Define the following `logistic regression` with a `high dimensional function feature function`.\n",
        "\n",
        "\\begin{equation*}\n",
        "\\hat{h} = \\sigma(z) \\\\\n",
        "z = g(x, y; \\theta), \\quad\\text{where } \\theta = (\\theta_{0}, \\theta_{1}, ..., \\theta_{28\\times28}) \\\\\n",
        "g(x, y; \\theta) = \\theta_1 x_1 + \\theta_2 x_2 + ... + \\theta_{28\\times28} x_{28\\times28} \\\\\n",
        "\\sigma(z) = \\frac{1}{1 + exp(-z)} \\\\\n",
        "\\sigma'(z) = \\sigma(z)(1 - \\sigma(z)) \\\\\n",
        "\\end{equation*}"
      ]
    },
    {
      "cell_type": "markdown",
      "metadata": {
        "id": "_Td7c0f-iHyK",
        "colab_type": "text"
      },
      "source": [
        "Define the `function` $g(x, y; \\theta)$:\n",
        "\\begin{equation}\n",
        "g(x, y; \\theta) = \\theta_1 x_1 + \\theta_2 x_2 + ... + \\theta_{28\\times28} x_{28\\times28}\n",
        "\\end{equation}"
      ]
    },
    {
      "cell_type": "code",
      "metadata": {
        "id": "xnAXhYwBeH2N",
        "colab_type": "code",
        "colab": {}
      },
      "source": [
        "def g(weight):\n",
        "    g_0  = np.empty(count_0, dtype=np.float128)\n",
        "    g_1  = np.empty(count_1, dtype=np.float128)\n",
        "    g_2  = np.empty(count_2, dtype=np.float128)\n",
        "    g_3  = np.empty(count_3, dtype=np.float128)\n",
        "    g_4  = np.empty(count_4, dtype=np.float128)\n",
        "    g_5  = np.empty(count_5, dtype=np.float128)\n",
        "    g_6  = np.empty(count_6, dtype=np.float128)\n",
        "    g_7  = np.empty(count_7, dtype=np.float128)\n",
        "    g_8  = np.empty(count_8, dtype=np.float128)\n",
        "    g_9  = np.empty(count_9, dtype=np.float128)\n",
        "\n",
        "    for i in range(count_0):\n",
        "        g_0[i] = np.dot(list_image_0[:, i], weight)\n",
        "    for i in range(count_1):\n",
        "        g_1[i] = np.dot(list_image_1[:, i], weight)\n",
        "    for i in range(count_2):\n",
        "        g_2[i] = np.dot(list_image_2[:, i], weight)\n",
        "    for i in range(count_3):\n",
        "        g_3[i] = np.dot(list_image_3[:, i], weight)\n",
        "    for i in range(count_4):\n",
        "        g_4[i] = np.dot(list_image_4[:, i], weight)\n",
        "    for i in range(count_5):\n",
        "        g_5[i] = np.dot(list_image_5[:, i], weight)\n",
        "    for i in range(count_6):\n",
        "        g_6[i] = np.dot(list_image_6[:, i], weight)\n",
        "    for i in range(count_7):\n",
        "        g_7[i] = np.dot(list_image_7[:, i], weight)\n",
        "    for i in range(count_8):\n",
        "        g_8[i] = np.dot(list_image_8[:, i], weight)\n",
        "    for i in range(count_9):\n",
        "        g_9[i] = np.dot(list_image_9[:, i], weight)\n",
        "    return g_0, g_1, g_2, g_3, g_4, g_5, g_6, g_7, g_8, g_9"
      ],
      "execution_count": 0,
      "outputs": []
    },
    {
      "cell_type": "markdown",
      "metadata": {
        "id": "JwEIlM7vEbQi",
        "colab_type": "text"
      },
      "source": [
        "Define the following `sigmoid function`.\n",
        "\n",
        "\\begin{equation*}\n",
        "\\hat{h} = \\sigma(z), \\text{ where }\n",
        "\\sigma(z) = \\frac{1}{1 + exp(-z)}, \\\\\n",
        "z = g(x, y; \\theta) = \\sum_{i = 0}^9\\sum_{j = 0}^9\\theta_{i, j}x^iy^j \\\\\n",
        "\\end{equation*}"
      ]
    },
    {
      "cell_type": "code",
      "metadata": {
        "id": "lF_EH1XyYihP",
        "colab_type": "code",
        "colab": {}
      },
      "source": [
        "def logistic_unit(weight):\n",
        "    y_sigmoid_function = []\n",
        "    for i in range(10):\n",
        "        y_sigmoid_function.append([])\n",
        "    z = g(weight)\n",
        "    for i in range(count_0):\n",
        "        y_sigmoid_function[0].append(1/(1 + np.exp(-z[0][i])))\n",
        "    for i in range(count_1):\n",
        "        y_sigmoid_function[1].append(1/(1 + np.exp(-z[1][i])))\n",
        "    for i in range(count_2):\n",
        "        y_sigmoid_function[2].append(1/(1 + np.exp(-z[2][i])))\n",
        "    for i in range(count_3):\n",
        "        y_sigmoid_function[3].append(1/(1 + np.exp(-z[3][i])))\n",
        "    for i in range(count_4):\n",
        "        y_sigmoid_function[4].append(1/(1 + np.exp(-z[4][i])))\n",
        "    for i in range(count_5):\n",
        "        y_sigmoid_function[5].append(1/(1 + np.exp(-z[5][i])))\n",
        "    for i in range(count_6):\n",
        "        y_sigmoid_function[6].append(1/(1 + np.exp(-z[6][i])))\n",
        "    for i in range(count_7):\n",
        "        y_sigmoid_function[7].append(1/(1 + np.exp(-z[7][i])))\n",
        "    for i in range(count_8):\n",
        "        y_sigmoid_function[8].append(1/(1 + np.exp(-z[8][i])))\n",
        "    for i in range(count_9):\n",
        "        y_sigmoid_function[9].append(1/(1 + np.exp(-z[9][i])))\n",
        "    return y_sigmoid_function"
      ],
      "execution_count": 0,
      "outputs": []
    },
    {
      "cell_type": "markdown",
      "metadata": {
        "id": "zTQ5fNon_luS",
        "colab_type": "text"
      },
      "source": [
        "### 2.2. `Train` the input data"
      ]
    },
    {
      "cell_type": "markdown",
      "metadata": {
        "id": "VmCtCARLAJiS",
        "colab_type": "text"
      },
      "source": [
        "Define the initial `weight` $(\\theta_{0}^{(0)}, \\theta_{1}^{(0)}, \\theta_{2}^{(0)}, ..., \\theta_{28\\times28}^{(0)})$. \\\\\n",
        "The `weights` of the `fully connected layer` are given by `random numbers` sampled from the `Normal distribution` $\\mathcal{N}(0, 1)$ with `mean` 0 and `standard deviation` 1."
      ]
    },
    {
      "cell_type": "code",
      "metadata": {
        "id": "XP0O-QmmYih8",
        "colab_type": "code",
        "colab": {}
      },
      "source": [
        "weight = np.random.randn(size_row*size_col)\n",
        "list_weight = np.empty((size_row*size_col, 1), dtype=np.float128)\n",
        "list_weight[:, 0] = weight"
      ],
      "execution_count": 0,
      "outputs": []
    },
    {
      "cell_type": "markdown",
      "metadata": {
        "id": "bKT5lGy2A5V8",
        "colab_type": "text"
      },
      "source": [
        "`Train` the `input data` with the `logistic regression` function above with the `gradient descent`. \\\\\n",
        "Find optimal parameters $\\theta$ using the `traing data`."
      ]
    },
    {
      "cell_type": "code",
      "metadata": {
        "id": "jqg-AemPG92m",
        "colab_type": "code",
        "colab": {}
      },
      "source": [
        "sigmoid = []\n",
        "sigmoid = logistic_unit(list_weight)"
      ],
      "execution_count": 0,
      "outputs": []
    },
    {
      "cell_type": "markdown",
      "metadata": {
        "id": "J7KprHVQDhY3",
        "colab_type": "text"
      },
      "source": [
        "## 7. **Results**"
      ]
    },
    {
      "cell_type": "markdown",
      "metadata": {
        "id": "yqRkLfC5Dlpq",
        "colab_type": "text"
      },
      "source": [
        "### 1. **Plot the average image**"
      ]
    },
    {
      "cell_type": "markdown",
      "metadata": {
        "id": "F4ysZpDTDojS",
        "colab_type": "text"
      },
      "source": [
        "Plot the `average images` of the `same label` for `each digit` arrange the subplots in `2x5 array` for the 10 average images and present the `label` at the `title` of each subplot in the `increasing order` of the label.\n"
      ]
    },
    {
      "cell_type": "code",
      "metadata": {
        "id": "pyyRWqECQaxN",
        "colab_type": "code",
        "colab": {}
      },
      "source": [
        "f1 = plt.figure(figsize=(8, 4))\n",
        "\n",
        "plotMean(list_image_0, 0)\n",
        "plotMean(list_image_1, 1)\n",
        "plotMean(list_image_2, 2)\n",
        "plotMean(list_image_3, 3)\n",
        "plotMean(list_image_4, 4)\n",
        "plotMean(list_image_5, 5)\n",
        "plotMean(list_image_6, 6)\n",
        "plotMean(list_image_7, 7)\n",
        "plotMean(list_image_8, 8)\n",
        "plotMean(list_image_9, 9)\n",
        "\n",
        "plt.show()"
      ],
      "execution_count": 0,
      "outputs": []
    },
    {
      "cell_type": "markdown",
      "metadata": {
        "id": "WMDeilIRDuS2",
        "colab_type": "text"
      },
      "source": [
        "### 2. **Present the output of the neural network with random weights**"
      ]
    },
    {
      "cell_type": "markdown",
      "metadata": {
        "id": "TuqmpAX-w96y",
        "colab_type": "text"
      },
      "source": [
        "Consider a `neural network` with a `fully connected layer` using a `logistic unit` without a `bias`. \\\\\n",
        "Assign `random values` from the `normal distribution` $\\mathcal{N}(0, 1)$ with `mean` 0 and `standard deviation` 1 to the `weights` of the `fully connected layer` using a `logistic unit` without a `bias`. \\\\\n",
        "Compute the `forward propagation` and take the `average` of the `output values` for the `images` of the `same label`.\n",
        "Present the `average values` for `each label` in the `increasing order` of the `label`."
      ]
    },
    {
      "cell_type": "code",
      "metadata": {
        "id": "3EpsSm9ow880",
        "colab_type": "code",
        "colab": {}
      },
      "source": [
        "f1 = plt.figure(figsize=(8, 8))\n",
        "\n",
        "plotMean(list_image_0, 0)\n",
        "plotMean(list_image_1, 1)\n",
        "plotMean(list_image_2, 2)\n",
        "plotMean(list_image_3, 3)\n",
        "plotMean(list_image_4, 4)\n",
        "plotMean(list_image_5, 5)\n",
        "plotMean(list_image_6, 6)\n",
        "plotMean(list_image_7, 7)\n",
        "plotMean(list_image_8, 8)\n",
        "plotMean(list_image_9, 9)\n",
        "\n",
        "plt.show()"
      ],
      "execution_count": 0,
      "outputs": []
    }
  ]
}