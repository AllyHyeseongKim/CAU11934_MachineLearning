{
  "nbformat": 4,
  "nbformat_minor": 0,
  "metadata": {
    "colab": {
      "name": "assignment03.ipynb",
      "provenance": [],
      "private_outputs": true,
      "collapsed_sections": [],
      "toc_visible": true,
      "authorship_tag": "ABX9TyNBijijs8ywqAJ4b7b/rbG/",
      "include_colab_link": true
    },
    "kernelspec": {
      "name": "python3",
      "display_name": "Python 3"
    }
  },
  "cells": [
    {
      "cell_type": "markdown",
      "metadata": {
        "id": "view-in-github",
        "colab_type": "text"
      },
      "source": [
        "<a href=\"https://colab.research.google.com/github/AllyHyeseongKim/CAU11934_MachineLarning/blob/master/assignment/03/assignment03.ipynb\" target=\"_parent\"><img src=\"https://colab.research.google.com/assets/colab-badge.svg\" alt=\"Open In Colab\"/></a>"
      ]
    },
    {
      "cell_type": "markdown",
      "metadata": {
        "id": "dYUl9qFDln6i",
        "colab_type": "text"
      },
      "source": [
        "# Assignment03: Visualization of Gradient Descent algorithm based on Linear Regression problem\n",
        "\n"
      ]
    },
    {
      "cell_type": "markdown",
      "metadata": {
        "id": "0NGz5gZFl6Nw",
        "colab_type": "text"
      },
      "source": [
        "## 1. Load the input data (CSV file)"
      ]
    },
    {
      "cell_type": "markdown",
      "metadata": {
        "id": "w9NcHIKxnqCi",
        "colab_type": "text"
      },
      "source": [
        "### Mount the google drive "
      ]
    },
    {
      "cell_type": "code",
      "metadata": {
        "id": "od_Z7j02ni1o",
        "colab_type": "code",
        "colab": {}
      },
      "source": [
        "from google.colab import drive\n",
        "\n",
        "drive.mount('/content/gdrive')"
      ],
      "execution_count": 0,
      "outputs": []
    },
    {
      "cell_type": "code",
      "metadata": {
        "id": "62uPXb0NovaZ",
        "colab_type": "code",
        "colab": {}
      },
      "source": [
        "cd gdrive/My Drive/Colab Notebooks/Machine Learning/assignment03"
      ],
      "execution_count": 0,
      "outputs": []
    },
    {
      "cell_type": "code",
      "metadata": {
        "id": "GTnVBGX9o6zA",
        "colab_type": "code",
        "colab": {}
      },
      "source": [
        "ls"
      ],
      "execution_count": 0,
      "outputs": []
    },
    {
      "cell_type": "markdown",
      "metadata": {
        "id": "E377ghAnpEd8",
        "colab_type": "text"
      },
      "source": [
        "### Load the Data\n",
        "\n",
        "Load a set of data points $\\{ (x^{(i)}, y^{(i)}) \\}$ from the given `CSV file` (`'data.csv'`)."
      ]
    },
    {
      "cell_type": "code",
      "metadata": {
        "id": "fOk6KpUnkLX0",
        "colab_type": "code",
        "colab": {}
      },
      "source": [
        "import numpy as np\n",
        "import matplotlib.pyplot as plt\n",
        "\n",
        "path = 'data.csv'\n",
        "data = np.genfromtxt(path, delimiter=',')\n",
        "\n",
        "x_data = data[:, 0]\n",
        "y_data = data[:, 1]\n",
        "\n",
        "plt.figure(figsize=(8, 8))\n",
        "plt.scatter(x_data, y_data, alpha=0.3)\n",
        "plt.show()"
      ],
      "execution_count": 0,
      "outputs": []
    }
  ]
}